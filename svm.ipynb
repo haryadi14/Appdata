{
  "cells": [
    {
      "cell_type": "markdown",
      "metadata": {
        "id": "view-in-github",
        "colab_type": "text"
      },
      "source": [
        "<a href=\"https://colab.research.google.com/github/haryadi14/Appdata/blob/master/svm.ipynb\" target=\"_parent\"><img src=\"https://colab.research.google.com/assets/colab-badge.svg\" alt=\"Open In Colab\"/></a>"
      ]
    },
    {
      "cell_type": "markdown",
      "metadata": {
        "id": "CGBA8bBklqAA"
      },
      "source": [
        "# **DdOS Detection Using Machine Learning and Model Comparassion**"
      ]
    },
    {
      "cell_type": "code",
      "execution_count": 1,
      "metadata": {
        "id": "MMmoz6gohTds"
      },
      "outputs": [],
      "source": [
        "# module imports\n",
        "import numpy as np \n",
        "import pandas as pd \n",
        "import matplotlib.pyplot as plt\n",
        "import seaborn as sns\n",
        "import itertools\n",
        "import random\n",
        "\n",
        "# processing imports\n",
        "from sklearn.preprocessing import LabelEncoder\n",
        "from sklearn.model_selection import train_test_split\n",
        "from sklearn.model_selection import cross_val_score\n",
        "from sklearn.metrics import accuracy_score,confusion_matrix,precision_score,f1_score,recall_score\n",
        "\n",
        "from sklearn import metrics\n",
        "from sklearn import svm\n",
        "\n"
      ]
    },
    {
      "cell_type": "code",
      "source": [
        "from google.colab import drive\n",
        "drive.mount('/content/drive')"
      ],
      "metadata": {
        "colab": {
          "base_uri": "https://localhost:8080/"
        },
        "id": "s3W8M_BxBD1b",
        "outputId": "aed9fa4f-e280-4340-8b33-1fb7ac59b2ef"
      },
      "execution_count": 3,
      "outputs": [
        {
          "output_type": "stream",
          "name": "stdout",
          "text": [
            "Mounted at /content/drive\n"
          ]
        }
      ]
    },
    {
      "cell_type": "markdown",
      "metadata": {
        "id": "PSBRXFL3mMAA"
      },
      "source": [
        "# **I. Data Collecting**\n",
        "\n"
      ]
    },
    {
      "cell_type": "code",
      "execution_count": 4,
      "metadata": {
        "id": "iOaC8YDBaHAw",
        "colab": {
          "base_uri": "https://localhost:8080/"
        },
        "outputId": "ec8250f2-eadb-45e5-a691-ab0c67fb55d7"
      },
      "outputs": [
        {
          "output_type": "stream",
          "name": "stderr",
          "text": [
            "/usr/local/lib/python3.8/dist-packages/IPython/core/interactiveshell.py:3326: DtypeWarning: Columns (85) have mixed types.Specify dtype option on import or set low_memory=False.\n",
            "  exec(code_obj, self.user_global_ns, self.user_ns)\n"
          ]
        }
      ],
      "source": [
        "dataset = pd.read_csv('drive/MyDrive/UDP.csv')"
      ]
    },
    {
      "cell_type": "code",
      "execution_count": 5,
      "metadata": {
        "colab": {
          "base_uri": "https://localhost:8080/",
          "height": 0
        },
        "id": "5pZ9TzE3adpv",
        "outputId": "c8e5b94b-d633-495e-ed4f-b9ff1d687c48"
      },
      "outputs": [
        {
          "output_type": "execute_result",
          "data": {
            "text/plain": [
              "   Unnamed: 0                                Flow ID   Source IP  \\\n",
              "0       15798  172.16.0.5-192.168.50.4-9401-15931-17  172.16.0.5   \n",
              "1      110891  172.16.0.5-192.168.50.4-9402-29997-17  172.16.0.5   \n",
              "2       66956  172.16.0.5-192.168.50.4-9403-29887-17  172.16.0.5   \n",
              "3       66144   172.16.0.5-192.168.50.4-9404-7393-17  172.16.0.5   \n",
              "4       72903  172.16.0.5-192.168.50.4-9405-57957-17  172.16.0.5   \n",
              "\n",
              "    Source Port  Destination IP   Destination Port   Protocol  \\\n",
              "0          9401    192.168.50.4              15931         17   \n",
              "1          9402    192.168.50.4              29997         17   \n",
              "2          9403    192.168.50.4              29887         17   \n",
              "3          9404    192.168.50.4               7393         17   \n",
              "4          9405    192.168.50.4              57957         17   \n",
              "\n",
              "                    Timestamp   Flow Duration   Total Fwd Packets  ...  \\\n",
              "0  2018-11-03 10:42:57.176671               1                   2  ...   \n",
              "1  2018-11-03 10:42:57.176673               0                   2  ...   \n",
              "2  2018-11-03 10:42:57.176727               1                   2  ...   \n",
              "3  2018-11-03 10:42:57.176729               1                   2  ...   \n",
              "4  2018-11-03 10:42:57.177121               1                   2  ...   \n",
              "\n",
              "    Active Std   Active Max   Active Min  Idle Mean   Idle Std   Idle Max  \\\n",
              "0          0.0          0.0          0.0        0.0        0.0        0.0   \n",
              "1          0.0          0.0          0.0        0.0        0.0        0.0   \n",
              "2          0.0          0.0          0.0        0.0        0.0        0.0   \n",
              "3          0.0          0.0          0.0        0.0        0.0        0.0   \n",
              "4          0.0          0.0          0.0        0.0        0.0        0.0   \n",
              "\n",
              "    Idle Min  SimillarHTTP   Inbound   Label  \n",
              "0        0.0             0         1   MSSQL  \n",
              "1        0.0             0         1   MSSQL  \n",
              "2        0.0             0         1   MSSQL  \n",
              "3        0.0             0         1   MSSQL  \n",
              "4        0.0             0         1   MSSQL  \n",
              "\n",
              "[5 rows x 88 columns]"
            ],
            "text/html": [
              "\n",
              "  <div id=\"df-1cf33954-30cd-4882-a54b-4cc8f9a8797a\">\n",
              "    <div class=\"colab-df-container\">\n",
              "      <div>\n",
              "<style scoped>\n",
              "    .dataframe tbody tr th:only-of-type {\n",
              "        vertical-align: middle;\n",
              "    }\n",
              "\n",
              "    .dataframe tbody tr th {\n",
              "        vertical-align: top;\n",
              "    }\n",
              "\n",
              "    .dataframe thead th {\n",
              "        text-align: right;\n",
              "    }\n",
              "</style>\n",
              "<table border=\"1\" class=\"dataframe\">\n",
              "  <thead>\n",
              "    <tr style=\"text-align: right;\">\n",
              "      <th></th>\n",
              "      <th>Unnamed: 0</th>\n",
              "      <th>Flow ID</th>\n",
              "      <th>Source IP</th>\n",
              "      <th>Source Port</th>\n",
              "      <th>Destination IP</th>\n",
              "      <th>Destination Port</th>\n",
              "      <th>Protocol</th>\n",
              "      <th>Timestamp</th>\n",
              "      <th>Flow Duration</th>\n",
              "      <th>Total Fwd Packets</th>\n",
              "      <th>...</th>\n",
              "      <th>Active Std</th>\n",
              "      <th>Active Max</th>\n",
              "      <th>Active Min</th>\n",
              "      <th>Idle Mean</th>\n",
              "      <th>Idle Std</th>\n",
              "      <th>Idle Max</th>\n",
              "      <th>Idle Min</th>\n",
              "      <th>SimillarHTTP</th>\n",
              "      <th>Inbound</th>\n",
              "      <th>Label</th>\n",
              "    </tr>\n",
              "  </thead>\n",
              "  <tbody>\n",
              "    <tr>\n",
              "      <th>0</th>\n",
              "      <td>15798</td>\n",
              "      <td>172.16.0.5-192.168.50.4-9401-15931-17</td>\n",
              "      <td>172.16.0.5</td>\n",
              "      <td>9401</td>\n",
              "      <td>192.168.50.4</td>\n",
              "      <td>15931</td>\n",
              "      <td>17</td>\n",
              "      <td>2018-11-03 10:42:57.176671</td>\n",
              "      <td>1</td>\n",
              "      <td>2</td>\n",
              "      <td>...</td>\n",
              "      <td>0.0</td>\n",
              "      <td>0.0</td>\n",
              "      <td>0.0</td>\n",
              "      <td>0.0</td>\n",
              "      <td>0.0</td>\n",
              "      <td>0.0</td>\n",
              "      <td>0.0</td>\n",
              "      <td>0</td>\n",
              "      <td>1</td>\n",
              "      <td>MSSQL</td>\n",
              "    </tr>\n",
              "    <tr>\n",
              "      <th>1</th>\n",
              "      <td>110891</td>\n",
              "      <td>172.16.0.5-192.168.50.4-9402-29997-17</td>\n",
              "      <td>172.16.0.5</td>\n",
              "      <td>9402</td>\n",
              "      <td>192.168.50.4</td>\n",
              "      <td>29997</td>\n",
              "      <td>17</td>\n",
              "      <td>2018-11-03 10:42:57.176673</td>\n",
              "      <td>0</td>\n",
              "      <td>2</td>\n",
              "      <td>...</td>\n",
              "      <td>0.0</td>\n",
              "      <td>0.0</td>\n",
              "      <td>0.0</td>\n",
              "      <td>0.0</td>\n",
              "      <td>0.0</td>\n",
              "      <td>0.0</td>\n",
              "      <td>0.0</td>\n",
              "      <td>0</td>\n",
              "      <td>1</td>\n",
              "      <td>MSSQL</td>\n",
              "    </tr>\n",
              "    <tr>\n",
              "      <th>2</th>\n",
              "      <td>66956</td>\n",
              "      <td>172.16.0.5-192.168.50.4-9403-29887-17</td>\n",
              "      <td>172.16.0.5</td>\n",
              "      <td>9403</td>\n",
              "      <td>192.168.50.4</td>\n",
              "      <td>29887</td>\n",
              "      <td>17</td>\n",
              "      <td>2018-11-03 10:42:57.176727</td>\n",
              "      <td>1</td>\n",
              "      <td>2</td>\n",
              "      <td>...</td>\n",
              "      <td>0.0</td>\n",
              "      <td>0.0</td>\n",
              "      <td>0.0</td>\n",
              "      <td>0.0</td>\n",
              "      <td>0.0</td>\n",
              "      <td>0.0</td>\n",
              "      <td>0.0</td>\n",
              "      <td>0</td>\n",
              "      <td>1</td>\n",
              "      <td>MSSQL</td>\n",
              "    </tr>\n",
              "    <tr>\n",
              "      <th>3</th>\n",
              "      <td>66144</td>\n",
              "      <td>172.16.0.5-192.168.50.4-9404-7393-17</td>\n",
              "      <td>172.16.0.5</td>\n",
              "      <td>9404</td>\n",
              "      <td>192.168.50.4</td>\n",
              "      <td>7393</td>\n",
              "      <td>17</td>\n",
              "      <td>2018-11-03 10:42:57.176729</td>\n",
              "      <td>1</td>\n",
              "      <td>2</td>\n",
              "      <td>...</td>\n",
              "      <td>0.0</td>\n",
              "      <td>0.0</td>\n",
              "      <td>0.0</td>\n",
              "      <td>0.0</td>\n",
              "      <td>0.0</td>\n",
              "      <td>0.0</td>\n",
              "      <td>0.0</td>\n",
              "      <td>0</td>\n",
              "      <td>1</td>\n",
              "      <td>MSSQL</td>\n",
              "    </tr>\n",
              "    <tr>\n",
              "      <th>4</th>\n",
              "      <td>72903</td>\n",
              "      <td>172.16.0.5-192.168.50.4-9405-57957-17</td>\n",
              "      <td>172.16.0.5</td>\n",
              "      <td>9405</td>\n",
              "      <td>192.168.50.4</td>\n",
              "      <td>57957</td>\n",
              "      <td>17</td>\n",
              "      <td>2018-11-03 10:42:57.177121</td>\n",
              "      <td>1</td>\n",
              "      <td>2</td>\n",
              "      <td>...</td>\n",
              "      <td>0.0</td>\n",
              "      <td>0.0</td>\n",
              "      <td>0.0</td>\n",
              "      <td>0.0</td>\n",
              "      <td>0.0</td>\n",
              "      <td>0.0</td>\n",
              "      <td>0.0</td>\n",
              "      <td>0</td>\n",
              "      <td>1</td>\n",
              "      <td>MSSQL</td>\n",
              "    </tr>\n",
              "  </tbody>\n",
              "</table>\n",
              "<p>5 rows × 88 columns</p>\n",
              "</div>\n",
              "      <button class=\"colab-df-convert\" onclick=\"convertToInteractive('df-1cf33954-30cd-4882-a54b-4cc8f9a8797a')\"\n",
              "              title=\"Convert this dataframe to an interactive table.\"\n",
              "              style=\"display:none;\">\n",
              "        \n",
              "  <svg xmlns=\"http://www.w3.org/2000/svg\" height=\"24px\"viewBox=\"0 0 24 24\"\n",
              "       width=\"24px\">\n",
              "    <path d=\"M0 0h24v24H0V0z\" fill=\"none\"/>\n",
              "    <path d=\"M18.56 5.44l.94 2.06.94-2.06 2.06-.94-2.06-.94-.94-2.06-.94 2.06-2.06.94zm-11 1L8.5 8.5l.94-2.06 2.06-.94-2.06-.94L8.5 2.5l-.94 2.06-2.06.94zm10 10l.94 2.06.94-2.06 2.06-.94-2.06-.94-.94-2.06-.94 2.06-2.06.94z\"/><path d=\"M17.41 7.96l-1.37-1.37c-.4-.4-.92-.59-1.43-.59-.52 0-1.04.2-1.43.59L10.3 9.45l-7.72 7.72c-.78.78-.78 2.05 0 2.83L4 21.41c.39.39.9.59 1.41.59.51 0 1.02-.2 1.41-.59l7.78-7.78 2.81-2.81c.8-.78.8-2.07 0-2.86zM5.41 20L4 18.59l7.72-7.72 1.47 1.35L5.41 20z\"/>\n",
              "  </svg>\n",
              "      </button>\n",
              "      \n",
              "  <style>\n",
              "    .colab-df-container {\n",
              "      display:flex;\n",
              "      flex-wrap:wrap;\n",
              "      gap: 12px;\n",
              "    }\n",
              "\n",
              "    .colab-df-convert {\n",
              "      background-color: #E8F0FE;\n",
              "      border: none;\n",
              "      border-radius: 50%;\n",
              "      cursor: pointer;\n",
              "      display: none;\n",
              "      fill: #1967D2;\n",
              "      height: 32px;\n",
              "      padding: 0 0 0 0;\n",
              "      width: 32px;\n",
              "    }\n",
              "\n",
              "    .colab-df-convert:hover {\n",
              "      background-color: #E2EBFA;\n",
              "      box-shadow: 0px 1px 2px rgba(60, 64, 67, 0.3), 0px 1px 3px 1px rgba(60, 64, 67, 0.15);\n",
              "      fill: #174EA6;\n",
              "    }\n",
              "\n",
              "    [theme=dark] .colab-df-convert {\n",
              "      background-color: #3B4455;\n",
              "      fill: #D2E3FC;\n",
              "    }\n",
              "\n",
              "    [theme=dark] .colab-df-convert:hover {\n",
              "      background-color: #434B5C;\n",
              "      box-shadow: 0px 1px 3px 1px rgba(0, 0, 0, 0.15);\n",
              "      filter: drop-shadow(0px 1px 2px rgba(0, 0, 0, 0.3));\n",
              "      fill: #FFFFFF;\n",
              "    }\n",
              "  </style>\n",
              "\n",
              "      <script>\n",
              "        const buttonEl =\n",
              "          document.querySelector('#df-1cf33954-30cd-4882-a54b-4cc8f9a8797a button.colab-df-convert');\n",
              "        buttonEl.style.display =\n",
              "          google.colab.kernel.accessAllowed ? 'block' : 'none';\n",
              "\n",
              "        async function convertToInteractive(key) {\n",
              "          const element = document.querySelector('#df-1cf33954-30cd-4882-a54b-4cc8f9a8797a');\n",
              "          const dataTable =\n",
              "            await google.colab.kernel.invokeFunction('convertToInteractive',\n",
              "                                                     [key], {});\n",
              "          if (!dataTable) return;\n",
              "\n",
              "          const docLinkHtml = 'Like what you see? Visit the ' +\n",
              "            '<a target=\"_blank\" href=https://colab.research.google.com/notebooks/data_table.ipynb>data table notebook</a>'\n",
              "            + ' to learn more about interactive tables.';\n",
              "          element.innerHTML = '';\n",
              "          dataTable['output_type'] = 'display_data';\n",
              "          await google.colab.output.renderOutput(dataTable, element);\n",
              "          const docLink = document.createElement('div');\n",
              "          docLink.innerHTML = docLinkHtml;\n",
              "          element.appendChild(docLink);\n",
              "        }\n",
              "      </script>\n",
              "    </div>\n",
              "  </div>\n",
              "  "
            ]
          },
          "metadata": {},
          "execution_count": 5
        }
      ],
      "source": [
        "dataset.head()"
      ]
    },
    {
      "cell_type": "code",
      "execution_count": 6,
      "metadata": {
        "colab": {
          "base_uri": "https://localhost:8080/"
        },
        "id": "bGDbRtq5aqO4",
        "outputId": "85325a5a-2dc0-431f-fdc3-66b3b2640fb7"
      },
      "outputs": [
        {
          "output_type": "execute_result",
          "data": {
            "text/plain": [
              "array(['MSSQL', 'BENIGN', 'UDP'], dtype=object)"
            ]
          },
          "metadata": {},
          "execution_count": 6
        }
      ],
      "source": [
        "dataset[\" Label\"].unique()"
      ]
    },
    {
      "cell_type": "code",
      "execution_count": 7,
      "metadata": {
        "colab": {
          "base_uri": "https://localhost:8080/"
        },
        "id": "1cnSKUnUbFRz",
        "outputId": "7f94dd24-e42b-4299-bbc1-852c6b4ea99e"
      },
      "outputs": [
        {
          "output_type": "stream",
          "name": "stdout",
          "text": [
            "<class 'pandas.core.frame.DataFrame'>\n",
            "RangeIndex: 3782206 entries, 0 to 3782205\n",
            "Data columns (total 88 columns):\n",
            " #   Column                        Dtype  \n",
            "---  ------                        -----  \n",
            " 0   Unnamed: 0                    int64  \n",
            " 1   Flow ID                       object \n",
            " 2    Source IP                    object \n",
            " 3    Source Port                  int64  \n",
            " 4    Destination IP               object \n",
            " 5    Destination Port             int64  \n",
            " 6    Protocol                     int64  \n",
            " 7    Timestamp                    object \n",
            " 8    Flow Duration                int64  \n",
            " 9    Total Fwd Packets            int64  \n",
            " 10   Total Backward Packets       int64  \n",
            " 11  Total Length of Fwd Packets   float64\n",
            " 12   Total Length of Bwd Packets  float64\n",
            " 13   Fwd Packet Length Max        float64\n",
            " 14   Fwd Packet Length Min        float64\n",
            " 15   Fwd Packet Length Mean       float64\n",
            " 16   Fwd Packet Length Std        float64\n",
            " 17  Bwd Packet Length Max         float64\n",
            " 18   Bwd Packet Length Min        float64\n",
            " 19   Bwd Packet Length Mean       float64\n",
            " 20   Bwd Packet Length Std        float64\n",
            " 21  Flow Bytes/s                  float64\n",
            " 22   Flow Packets/s               float64\n",
            " 23   Flow IAT Mean                float64\n",
            " 24   Flow IAT Std                 float64\n",
            " 25   Flow IAT Max                 float64\n",
            " 26   Flow IAT Min                 float64\n",
            " 27  Fwd IAT Total                 float64\n",
            " 28   Fwd IAT Mean                 float64\n",
            " 29   Fwd IAT Std                  float64\n",
            " 30   Fwd IAT Max                  float64\n",
            " 31   Fwd IAT Min                  float64\n",
            " 32  Bwd IAT Total                 float64\n",
            " 33   Bwd IAT Mean                 float64\n",
            " 34   Bwd IAT Std                  float64\n",
            " 35   Bwd IAT Max                  float64\n",
            " 36   Bwd IAT Min                  float64\n",
            " 37  Fwd PSH Flags                 int64  \n",
            " 38   Bwd PSH Flags                int64  \n",
            " 39   Fwd URG Flags                int64  \n",
            " 40   Bwd URG Flags                int64  \n",
            " 41   Fwd Header Length            int64  \n",
            " 42   Bwd Header Length            int64  \n",
            " 43  Fwd Packets/s                 float64\n",
            " 44   Bwd Packets/s                float64\n",
            " 45   Min Packet Length            float64\n",
            " 46   Max Packet Length            float64\n",
            " 47   Packet Length Mean           float64\n",
            " 48   Packet Length Std            float64\n",
            " 49   Packet Length Variance       float64\n",
            " 50  FIN Flag Count                int64  \n",
            " 51   SYN Flag Count               int64  \n",
            " 52   RST Flag Count               int64  \n",
            " 53   PSH Flag Count               int64  \n",
            " 54   ACK Flag Count               int64  \n",
            " 55   URG Flag Count               int64  \n",
            " 56   CWE Flag Count               int64  \n",
            " 57   ECE Flag Count               int64  \n",
            " 58   Down/Up Ratio                float64\n",
            " 59   Average Packet Size          float64\n",
            " 60   Avg Fwd Segment Size         float64\n",
            " 61   Avg Bwd Segment Size         float64\n",
            " 62   Fwd Header Length.1          int64  \n",
            " 63  Fwd Avg Bytes/Bulk            int64  \n",
            " 64   Fwd Avg Packets/Bulk         int64  \n",
            " 65   Fwd Avg Bulk Rate            int64  \n",
            " 66   Bwd Avg Bytes/Bulk           int64  \n",
            " 67   Bwd Avg Packets/Bulk         int64  \n",
            " 68  Bwd Avg Bulk Rate             int64  \n",
            " 69  Subflow Fwd Packets           int64  \n",
            " 70   Subflow Fwd Bytes            int64  \n",
            " 71   Subflow Bwd Packets          int64  \n",
            " 72   Subflow Bwd Bytes            int64  \n",
            " 73  Init_Win_bytes_forward        int64  \n",
            " 74   Init_Win_bytes_backward      int64  \n",
            " 75   act_data_pkt_fwd             int64  \n",
            " 76   min_seg_size_forward         int64  \n",
            " 77  Active Mean                   float64\n",
            " 78   Active Std                   float64\n",
            " 79   Active Max                   float64\n",
            " 80   Active Min                   float64\n",
            " 81  Idle Mean                     float64\n",
            " 82   Idle Std                     float64\n",
            " 83   Idle Max                     float64\n",
            " 84   Idle Min                     float64\n",
            " 85  SimillarHTTP                  object \n",
            " 86   Inbound                      int64  \n",
            " 87   Label                        object \n",
            "dtypes: float64(45), int64(37), object(6)\n",
            "memory usage: 2.5+ GB\n"
          ]
        }
      ],
      "source": [
        "dataset.info()"
      ]
    },
    {
      "cell_type": "markdown",
      "metadata": {
        "id": "vEB0m8Mybdsj"
      },
      "source": [
        "# **II. Data Prerocessing**"
      ]
    },
    {
      "cell_type": "markdown",
      "metadata": {
        "id": "K_D3mBKUcEM9"
      },
      "source": [
        "Label Encoders"
      ]
    },
    {
      "cell_type": "code",
      "execution_count": 8,
      "metadata": {
        "colab": {
          "base_uri": "https://localhost:8080/"
        },
        "id": "DfUNp6rMcfE-",
        "outputId": "8d8c58fc-3526-4013-e3b8-8a9c893082e9"
      },
      "outputs": [
        {
          "output_type": "execute_result",
          "data": {
            "text/plain": [
              "UDP       3754680\n",
              "MSSQL       24392\n",
              "BENIGN       3134\n",
              "Name:  Label, dtype: int64"
            ]
          },
          "metadata": {},
          "execution_count": 8
        }
      ],
      "source": [
        "dataset[\" Label\"].value_counts()"
      ]
    },
    {
      "cell_type": "code",
      "execution_count": 9,
      "metadata": {
        "id": "6uh7JQYFbdEt"
      },
      "outputs": [],
      "source": [
        "is_attack = dataset[\" Label\"].map(lambda a: 0 if a == 'BENIGN' else 1)"
      ]
    },
    {
      "cell_type": "code",
      "execution_count": 10,
      "metadata": {
        "colab": {
          "base_uri": "https://localhost:8080/"
        },
        "id": "M-GRX4qbcjD9",
        "outputId": "39e533c6-1272-40b7-c46d-36c156d0769f"
      },
      "outputs": [
        {
          "output_type": "execute_result",
          "data": {
            "text/plain": [
              "1    3779072\n",
              "0       3134\n",
              "Name:  Label, dtype: int64"
            ]
          },
          "metadata": {},
          "execution_count": 10
        }
      ],
      "source": [
        "is_attack.value_counts()"
      ]
    },
    {
      "cell_type": "code",
      "source": [
        "\n",
        "is_attack"
      ],
      "metadata": {
        "id": "0LjycbO60rLw",
        "outputId": "25dda896-d9c1-4a65-cce3-75d76ecd9022",
        "colab": {
          "base_uri": "https://localhost:8080/"
        }
      },
      "execution_count": 11,
      "outputs": [
        {
          "output_type": "execute_result",
          "data": {
            "text/plain": [
              "0          1\n",
              "1          1\n",
              "2          1\n",
              "3          1\n",
              "4          1\n",
              "          ..\n",
              "3782201    1\n",
              "3782202    1\n",
              "3782203    1\n",
              "3782204    1\n",
              "3782205    1\n",
              "Name:  Label, Length: 3782206, dtype: int64"
            ]
          },
          "metadata": {},
          "execution_count": 11
        }
      ]
    },
    {
      "cell_type": "code",
      "source": [
        "dataset[' Label'] = is_attack"
      ],
      "metadata": {
        "id": "oOY6uAcNCN7z"
      },
      "execution_count": 12,
      "outputs": []
    },
    {
      "cell_type": "code",
      "execution_count": 13,
      "metadata": {
        "colab": {
          "base_uri": "https://localhost:8080/",
          "height": 0
        },
        "id": "mDqSJx9rc8xq",
        "outputId": "0ab6ed48-55a1-47d1-86bb-b17aa0bc04ae"
      },
      "outputs": [
        {
          "output_type": "stream",
          "name": "stderr",
          "text": [
            "/usr/local/lib/python3.8/dist-packages/seaborn/_decorators.py:36: FutureWarning: Pass the following variable as a keyword arg: x. From version 0.12, the only valid positional argument will be `data`, and passing other arguments without an explicit keyword will result in an error or misinterpretation.\n",
            "  warnings.warn(\n"
          ]
        },
        {
          "output_type": "execute_result",
          "data": {
            "text/plain": [
              "<matplotlib.axes._subplots.AxesSubplot at 0x7fdafe9dca90>"
            ]
          },
          "metadata": {},
          "execution_count": 13
        },
        {
          "output_type": "display_data",
          "data": {
            "text/plain": [
              "<Figure size 432x288 with 1 Axes>"
            ],
            "image/png": "[encoded data removed]"
          },
          "metadata": {
            "needs_background": "light"
          }
        }
      ],
      "source": [
        "label_dict = dict(is_attack.value_counts())\n",
        "sns.countplot(is_attack)"
      ]
    },
    {
      "cell_type": "code",
      "execution_count": 14,
      "metadata": {
        "colab": {
          "base_uri": "https://localhost:8080/",
          "height": 0
        },
        "id": "7_1XfkFXdJQD",
        "outputId": "2883b4d8-8735-4671-a88a-3f978361347e"
      },
      "outputs": [
        {
          "output_type": "display_data",
          "data": {
            "text/plain": [
              "<Figure size 936x576 with 1 Axes>"
            ],
            "image/png": "[encoded data removed]"
          },
          "metadata": {}
        }
      ],
      "source": [
        "labels = [\"Normal\",'DDoS']\n",
        "sizes = [dict(is_attack.value_counts())[0], dict(is_attack.value_counts())[1]]\n",
        "plt.figure(figsize = (13,8))\n",
        "plt.pie(sizes, labels=labels, autopct='%1.1f%%',\n",
        "        shadow=True, startangle=90)\n",
        "plt.legend([\"Normal\", \"DDoS\"])\n",
        "plt.title('persentasi dataset Normal dan Serangan')\n",
        "plt.show()"
      ]
    },
    {
      "cell_type": "code",
      "execution_count": 15,
      "metadata": {
        "id": "-0m_JiPwdoR7",
        "colab": {
          "base_uri": "https://localhost:8080/",
          "height": 0
        },
        "outputId": "97071231-d58a-4d07-fcf1-dfc26b4ba706"
      },
      "outputs": [
        {
          "output_type": "execute_result",
          "data": {
            "text/plain": [
              "         Unnamed: 0   Source Port   Destination Port      Protocol  \\\n",
              "count  3.782206e+06  3.782206e+06       3.782206e+06  3.782206e+06   \n",
              "mean   6.314332e+04  4.679348e+04       3.330075e+04  1.699230e+01   \n",
              "std    3.657531e+04  8.424700e+03       1.865294e+04  2.965105e-01   \n",
              "min    0.000000e+00  0.000000e+00       0.000000e+00  0.000000e+00   \n",
              "25%    3.151800e+04  3.985400e+04       1.721100e+04  1.700000e+01   \n",
              "50%    6.303600e+04  4.690800e+04       3.328800e+04  1.700000e+01   \n",
              "75%    9.455500e+04  5.389900e+04       4.948300e+04  1.700000e+01   \n",
              "max    1.323170e+05  6.553100e+04       6.553500e+04  1.700000e+01   \n",
              "\n",
              "        Flow Duration   Total Fwd Packets   Total Backward Packets  \\\n",
              "count    3.782206e+06        3.782206e+06             3.782206e+06   \n",
              "mean     9.054014e+04        3.749488e+00             7.763723e-03   \n",
              "std      7.661436e+05        3.573937e+00             1.442430e+00   \n",
              "min      0.000000e+00        1.000000e+00             0.000000e+00   \n",
              "25%      1.000000e+00        2.000000e+00             0.000000e+00   \n",
              "50%      5.100000e+01        2.000000e+00             0.000000e+00   \n",
              "75%      1.087730e+05        4.000000e+00             0.000000e+00   \n",
              "max      1.199956e+08        9.220000e+02             1.347000e+03   \n",
              "\n",
              "       Total Length of Fwd Packets   Total Length of Bwd Packets  \\\n",
              "count                 3.782206e+06                  3.782206e+06   \n",
              "mean                  1.362059e+03                  5.805188e+00   \n",
              "std                   1.201260e+03                  2.216302e+03   \n",
              "min                   0.000000e+00                  0.000000e+00   \n",
              "25%                   7.660000e+02                  0.000000e+00   \n",
              "50%                   1.146000e+03                  0.000000e+00   \n",
              "75%                   1.438000e+03                  0.000000e+00   \n",
              "max                   1.024720e+05                  2.466308e+06   \n",
              "\n",
              "        Fwd Packet Length Max  ...   Active Mean    Active Std    Active Max  \\\n",
              "count            3.782206e+06  ...  3.782206e+06  3.782206e+06  3.782206e+06   \n",
              "mean             3.881425e+02  ...  7.549161e+01  2.851830e+01  1.207670e+02   \n",
              "std              3.095188e+01  ...  1.598006e+04  8.481062e+03  2.363565e+04   \n",
              "min              0.000000e+00  ...  0.000000e+00  0.000000e+00  0.000000e+00   \n",
              "25%              3.750000e+02  ...  0.000000e+00  0.000000e+00  0.000000e+00   \n",
              "50%              3.890000e+02  ...  0.000000e+00  0.000000e+00  0.000000e+00   \n",
              "75%              3.930000e+02  ...  0.000000e+00  0.000000e+00  0.000000e+00   \n",
              "max              3.495000e+03  ...  1.086388e+07  8.246154e+06  1.613015e+07   \n",
              "\n",
              "         Active Min     Idle Mean      Idle Std      Idle Max      Idle Min  \\\n",
              "count  3.782206e+06  3.782206e+06  3.782206e+06  3.782206e+06  3.782206e+06   \n",
              "mean   5.850962e+01  2.400031e+03  1.250781e+02  2.517102e+03  2.292068e+03   \n",
              "std    1.464551e+04  3.039307e+05  6.037865e+04  3.197172e+05  2.964808e+05   \n",
              "min    0.000000e+00  0.000000e+00  0.000000e+00  0.000000e+00  0.000000e+00   \n",
              "25%    0.000000e+00  0.000000e+00  0.000000e+00  0.000000e+00  0.000000e+00   \n",
              "50%    0.000000e+00  0.000000e+00  0.000000e+00  0.000000e+00  0.000000e+00   \n",
              "75%    0.000000e+00  0.000000e+00  0.000000e+00  0.000000e+00  0.000000e+00   \n",
              "max    1.086388e+07  1.157254e+08  6.188006e+07  1.157254e+08  1.157254e+08   \n",
              "\n",
              "            Inbound         Label  \n",
              "count  3.782206e+06  3.782206e+06  \n",
              "mean   9.990566e-01  9.991714e-01  \n",
              "std    3.069976e-02  2.877378e-02  \n",
              "min    0.000000e+00  0.000000e+00  \n",
              "25%    1.000000e+00  1.000000e+00  \n",
              "50%    1.000000e+00  1.000000e+00  \n",
              "75%    1.000000e+00  1.000000e+00  \n",
              "max    1.000000e+00  1.000000e+00  \n",
              "\n",
              "[8 rows x 83 columns]"
            ],
            "text/html": [
              "\n",
              "  <div id=\"df-07567b63-f9b7-4756-9bd2-5cc1a4a50110\">\n",
              "    <div class=\"colab-df-container\">\n",
              "      <div>\n",
              "<style scoped>\n",
              "    .dataframe tbody tr th:only-of-type {\n",
              "        vertical-align: middle;\n",
              "    }\n",
              "\n",
              "    .dataframe tbody tr th {\n",
              "        vertical-align: top;\n",
              "    }\n",
              "\n",
              "    .dataframe thead th {\n",
              "        text-align: right;\n",
              "    }\n",
              "</style>\n",
              "<table border=\"1\" class=\"dataframe\">\n",
              "  <thead>\n",
              "    <tr style=\"text-align: right;\">\n",
              "      <th></th>\n",
              "      <th>Unnamed: 0</th>\n",
              "      <th>Source Port</th>\n",
              "      <th>Destination Port</th>\n",
              "      <th>Protocol</th>\n",
              "      <th>Flow Duration</th>\n",
              "      <th>Total Fwd Packets</th>\n",
              "      <th>Total Backward Packets</th>\n",
              "      <th>Total Length of Fwd Packets</th>\n",
              "      <th>Total Length of Bwd Packets</th>\n",
              "      <th>Fwd Packet Length Max</th>\n",
              "      <th>...</th>\n",
              "      <th>Active Mean</th>\n",
              "      <th>Active Std</th>\n",
              "      <th>Active Max</th>\n",
              "      <th>Active Min</th>\n",
              "      <th>Idle Mean</th>\n",
              "      <th>Idle Std</th>\n",
              "      <th>Idle Max</th>\n",
              "      <th>Idle Min</th>\n",
              "      <th>Inbound</th>\n",
              "      <th>Label</th>\n",
              "    </tr>\n",
              "  </thead>\n",
              "  <tbody>\n",
              "    <tr>\n",
              "      <th>count</th>\n",
              "      <td>3.782206e+06</td>\n",
              "      <td>3.782206e+06</td>\n",
              "      <td>3.782206e+06</td>\n",
              "      <td>3.782206e+06</td>\n",
              "      <td>3.782206e+06</td>\n",
              "      <td>3.782206e+06</td>\n",
              "      <td>3.782206e+06</td>\n",
              "      <td>3.782206e+06</td>\n",
              "      <td>3.782206e+06</td>\n",
              "      <td>3.782206e+06</td>\n",
              "      <td>...</td>\n",
              "      <td>3.782206e+06</td>\n",
              "      <td>3.782206e+06</td>\n",
              "      <td>3.782206e+06</td>\n",
              "      <td>3.782206e+06</td>\n",
              "      <td>3.782206e+06</td>\n",
              "      <td>3.782206e+06</td>\n",
              "      <td>3.782206e+06</td>\n",
              "      <td>3.782206e+06</td>\n",
              "      <td>3.782206e+06</td>\n",
              "      <td>3.782206e+06</td>\n",
              "    </tr>\n",
              "    <tr>\n",
              "      <th>mean</th>\n",
              "      <td>6.314332e+04</td>\n",
              "      <td>4.679348e+04</td>\n",
              "      <td>3.330075e+04</td>\n",
              "      <td>1.699230e+01</td>\n",
              "      <td>9.054014e+04</td>\n",
              "      <td>3.749488e+00</td>\n",
              "      <td>7.763723e-03</td>\n",
              "      <td>1.362059e+03</td>\n",
              "      <td>5.805188e+00</td>\n",
              "      <td>3.881425e+02</td>\n",
              "      <td>...</td>\n",
              "      <td>7.549161e+01</td>\n",
              "      <td>2.851830e+01</td>\n",
              "      <td>1.207670e+02</td>\n",
              "      <td>5.850962e+01</td>\n",
              "      <td>2.400031e+03</td>\n",
              "      <td>1.250781e+02</td>\n",
              "      <td>2.517102e+03</td>\n",
              "      <td>2.292068e+03</td>\n",
              "      <td>9.990566e-01</td>\n",
              "      <td>9.991714e-01</td>\n",
              "    </tr>\n",
              "    <tr>\n",
              "      <th>std</th>\n",
              "      <td>3.657531e+04</td>\n",
              "      <td>8.424700e+03</td>\n",
              "      <td>1.865294e+04</td>\n",
              "      <td>2.965105e-01</td>\n",
              "      <td>7.661436e+05</td>\n",
              "      <td>3.573937e+00</td>\n",
              "      <td>1.442430e+00</td>\n",
              "      <td>1.201260e+03</td>\n",
              "      <td>2.216302e+03</td>\n",
              "      <td>3.095188e+01</td>\n",
              "      <td>...</td>\n",
              "      <td>1.598006e+04</td>\n",
              "      <td>8.481062e+03</td>\n",
              "      <td>2.363565e+04</td>\n",
              "      <td>1.464551e+04</td>\n",
              "      <td>3.039307e+05</td>\n",
              "      <td>6.037865e+04</td>\n",
              "      <td>3.197172e+05</td>\n",
              "      <td>2.964808e+05</td>\n",
              "      <td>3.069976e-02</td>\n",
              "      <td>2.877378e-02</td>\n",
              "    </tr>\n",
              "    <tr>\n",
              "      <th>min</th>\n",
              "      <td>0.000000e+00</td>\n",
              "      <td>0.000000e+00</td>\n",
              "      <td>0.000000e+00</td>\n",
              "      <td>0.000000e+00</td>\n",
              "      <td>0.000000e+00</td>\n",
              "      <td>1.000000e+00</td>\n",
              "      <td>0.000000e+00</td>\n",
              "      <td>0.000000e+00</td>\n",
              "      <td>0.000000e+00</td>\n",
              "      <td>0.000000e+00</td>\n",
              "      <td>...</td>\n",
              "      <td>0.000000e+00</td>\n",
              "      <td>0.000000e+00</td>\n",
              "      <td>0.000000e+00</td>\n",
              "      <td>0.000000e+00</td>\n",
              "      <td>0.000000e+00</td>\n",
              "      <td>0.000000e+00</td>\n",
              "      <td>0.000000e+00</td>\n",
              "      <td>0.000000e+00</td>\n",
              "      <td>0.000000e+00</td>\n",
              "      <td>0.000000e+00</td>\n",
              "    </tr>\n",
              "    <tr>\n",
              "      <th>25%</th>\n",
              "      <td>3.151800e+04</td>\n",
              "      <td>3.985400e+04</td>\n",
              "      <td>1.721100e+04</td>\n",
              "      <td>1.700000e+01</td>\n",
              "      <td>1.000000e+00</td>\n",
              "      <td>2.000000e+00</td>\n",
              "      <td>0.000000e+00</td>\n",
              "      <td>7.660000e+02</td>\n",
              "      <td>0.000000e+00</td>\n",
              "      <td>3.750000e+02</td>\n",
              "      <td>...</td>\n",
              "      <td>0.000000e+00</td>\n",
              "      <td>0.000000e+00</td>\n",
              "      <td>0.000000e+00</td>\n",
              "      <td>0.000000e+00</td>\n",
              "      <td>0.000000e+00</td>\n",
              "      <td>0.000000e+00</td>\n",
              "      <td>0.000000e+00</td>\n",
              "      <td>0.000000e+00</td>\n",
              "      <td>1.000000e+00</td>\n",
              "      <td>1.000000e+00</td>\n",
              "    </tr>\n",
              "    <tr>\n",
              "      <th>50%</th>\n",
              "      <td>6.303600e+04</td>\n",
              "      <td>4.690800e+04</td>\n",
              "      <td>3.328800e+04</td>\n",
              "      <td>1.700000e+01</td>\n",
              "      <td>5.100000e+01</td>\n",
              "      <td>2.000000e+00</td>\n",
              "      <td>0.000000e+00</td>\n",
              "      <td>1.146000e+03</td>\n",
              "      <td>0.000000e+00</td>\n",
              "      <td>3.890000e+02</td>\n",
              "      <td>...</td>\n",
              "      <td>0.000000e+00</td>\n",
              "      <td>0.000000e+00</td>\n",
              "      <td>0.000000e+00</td>\n",
              "      <td>0.000000e+00</td>\n",
              "      <td>0.000000e+00</td>\n",
              "      <td>0.000000e+00</td>\n",
              "      <td>0.000000e+00</td>\n",
              "      <td>0.000000e+00</td>\n",
              "      <td>1.000000e+00</td>\n",
              "      <td>1.000000e+00</td>\n",
              "    </tr>\n",
              "    <tr>\n",
              "      <th>75%</th>\n",
              "      <td>9.455500e+04</td>\n",
              "      <td>5.389900e+04</td>\n",
              "      <td>4.948300e+04</td>\n",
              "      <td>1.700000e+01</td>\n",
              "      <td>1.087730e+05</td>\n",
              "      <td>4.000000e+00</td>\n",
              "      <td>0.000000e+00</td>\n",
              "      <td>1.438000e+03</td>\n",
              "      <td>0.000000e+00</td>\n",
              "      <td>3.930000e+02</td>\n",
              "      <td>...</td>\n",
              "      <td>0.000000e+00</td>\n",
              "      <td>0.000000e+00</td>\n",
              "      <td>0.000000e+00</td>\n",
              "      <td>0.000000e+00</td>\n",
              "      <td>0.000000e+00</td>\n",
              "      <td>0.000000e+00</td>\n",
              "      <td>0.000000e+00</td>\n",
              "      <td>0.000000e+00</td>\n",
              "      <td>1.000000e+00</td>\n",
              "      <td>1.000000e+00</td>\n",
              "    </tr>\n",
              "    <tr>\n",
              "      <th>max</th>\n",
              "      <td>1.323170e+05</td>\n",
              "      <td>6.553100e+04</td>\n",
              "      <td>6.553500e+04</td>\n",
              "      <td>1.700000e+01</td>\n",
              "      <td>1.199956e+08</td>\n",
              "      <td>9.220000e+02</td>\n",
              "      <td>1.347000e+03</td>\n",
              "      <td>1.024720e+05</td>\n",
              "      <td>2.466308e+06</td>\n",
              "      <td>3.495000e+03</td>\n",
              "      <td>...</td>\n",
              "      <td>1.086388e+07</td>\n",
              "      <td>8.246154e+06</td>\n",
              "      <td>1.613015e+07</td>\n",
              "      <td>1.086388e+07</td>\n",
              "      <td>1.157254e+08</td>\n",
              "      <td>6.188006e+07</td>\n",
              "      <td>1.157254e+08</td>\n",
              "      <td>1.157254e+08</td>\n",
              "      <td>1.000000e+00</td>\n",
              "      <td>1.000000e+00</td>\n",
              "    </tr>\n",
              "  </tbody>\n",
              "</table>\n",
              "<p>8 rows × 83 columns</p>\n",
              "</div>\n",
              "      <button class=\"colab-df-convert\" onclick=\"convertToInteractive('df-07567b63-f9b7-4756-9bd2-5cc1a4a50110')\"\n",
              "              title=\"Convert this dataframe to an interactive table.\"\n",
              "              style=\"display:none;\">\n",
              "        \n",
              "  <svg xmlns=\"http://www.w3.org/2000/svg\" height=\"24px\"viewBox=\"0 0 24 24\"\n",
              "       width=\"24px\">\n",
              "    <path d=\"M0 0h24v24H0V0z\" fill=\"none\"/>\n",
              "    <path d=\"M18.56 5.44l.94 2.06.94-2.06 2.06-.94-2.06-.94-.94-2.06-.94 2.06-2.06.94zm-11 1L8.5 8.5l.94-2.06 2.06-.94-2.06-.94L8.5 2.5l-.94 2.06-2.06.94zm10 10l.94 2.06.94-2.06 2.06-.94-2.06-.94-.94-2.06-.94 2.06-2.06.94z\"/><path d=\"M17.41 7.96l-1.37-1.37c-.4-.4-.92-.59-1.43-.59-.52 0-1.04.2-1.43.59L10.3 9.45l-7.72 7.72c-.78.78-.78 2.05 0 2.83L4 21.41c.39.39.9.59 1.41.59.51 0 1.02-.2 1.41-.59l7.78-7.78 2.81-2.81c.8-.78.8-2.07 0-2.86zM5.41 20L4 18.59l7.72-7.72 1.47 1.35L5.41 20z\"/>\n",
              "  </svg>\n",
              "      </button>\n",
              "      \n",
              "  <style>\n",
              "    .colab-df-container {\n",
              "      display:flex;\n",
              "      flex-wrap:wrap;\n",
              "      gap: 12px;\n",
              "    }\n",
              "\n",
              "    .colab-df-convert {\n",
              "      background-color: #E8F0FE;\n",
              "      border: none;\n",
              "      border-radius: 50%;\n",
              "      cursor: pointer;\n",
              "      display: none;\n",
              "      fill: #1967D2;\n",
              "      height: 32px;\n",
              "      padding: 0 0 0 0;\n",
              "      width: 32px;\n",
              "    }\n",
              "\n",
              "    .colab-df-convert:hover {\n",
              "      background-color: #E2EBFA;\n",
              "      box-shadow: 0px 1px 2px rgba(60, 64, 67, 0.3), 0px 1px 3px 1px rgba(60, 64, 67, 0.15);\n",
              "      fill: #174EA6;\n",
              "    }\n",
              "\n",
              "    [theme=dark] .colab-df-convert {\n",
              "      background-color: #3B4455;\n",
              "      fill: #D2E3FC;\n",
              "    }\n",
              "\n",
              "    [theme=dark] .colab-df-convert:hover {\n",
              "      background-color: #434B5C;\n",
              "      box-shadow: 0px 1px 3px 1px rgba(0, 0, 0, 0.15);\n",
              "      filter: drop-shadow(0px 1px 2px rgba(0, 0, 0, 0.3));\n",
              "      fill: #FFFFFF;\n",
              "    }\n",
              "  </style>\n",
              "\n",
              "      <script>\n",
              "        const buttonEl =\n",
              "          document.querySelector('#df-07567b63-f9b7-4756-9bd2-5cc1a4a50110 button.colab-df-convert');\n",
              "        buttonEl.style.display =\n",
              "          google.colab.kernel.accessAllowed ? 'block' : 'none';\n",
              "\n",
              "        async function convertToInteractive(key) {\n",
              "          const element = document.querySelector('#df-07567b63-f9b7-4756-9bd2-5cc1a4a50110');\n",
              "          const dataTable =\n",
              "            await google.colab.kernel.invokeFunction('convertToInteractive',\n",
              "                                                     [key], {});\n",
              "          if (!dataTable) return;\n",
              "\n",
              "          const docLinkHtml = 'Like what you see? Visit the ' +\n",
              "            '<a target=\"_blank\" href=https://colab.research.google.com/notebooks/data_table.ipynb>data table notebook</a>'\n",
              "            + ' to learn more about interactive tables.';\n",
              "          element.innerHTML = '';\n",
              "          dataTable['output_type'] = 'display_data';\n",
              "          await google.colab.output.renderOutput(dataTable, element);\n",
              "          const docLink = document.createElement('div');\n",
              "          docLink.innerHTML = docLinkHtml;\n",
              "          element.appendChild(docLink);\n",
              "        }\n",
              "      </script>\n",
              "    </div>\n",
              "  </div>\n",
              "  "
            ]
          },
          "metadata": {},
          "execution_count": 15
        }
      ],
      "source": [
        "dataset.describe()"
      ]
    },
    {
      "cell_type": "code",
      "execution_count": 17,
      "metadata": {
        "id": "3WMmz41eeRUM",
        "colab": {
          "base_uri": "https://localhost:8080/",
          "height": 0
        },
        "outputId": "470a77a0-3b41-4b36-fa83-ac641afc1049"
      },
      "outputs": [
        {
          "output_type": "execute_result",
          "data": {
            "text/plain": [
              "   Unnamed: 0                                Flow ID   Source IP  \\\n",
              "0       15798  172.16.0.5-192.168.50.4-9401-15931-17  172.16.0.5   \n",
              "1      110891  172.16.0.5-192.168.50.4-9402-29997-17  172.16.0.5   \n",
              "2       66956  172.16.0.5-192.168.50.4-9403-29887-17  172.16.0.5   \n",
              "3       66144   172.16.0.5-192.168.50.4-9404-7393-17  172.16.0.5   \n",
              "4       72903  172.16.0.5-192.168.50.4-9405-57957-17  172.16.0.5   \n",
              "\n",
              "    Source Port  Destination IP   Destination Port   Protocol  \\\n",
              "0          9401    192.168.50.4              15931         17   \n",
              "1          9402    192.168.50.4              29997         17   \n",
              "2          9403    192.168.50.4              29887         17   \n",
              "3          9404    192.168.50.4               7393         17   \n",
              "4          9405    192.168.50.4              57957         17   \n",
              "\n",
              "                    Timestamp   Flow Duration   Total Fwd Packets  ...  \\\n",
              "0  2018-11-03 10:42:57.176671               1                   2  ...   \n",
              "1  2018-11-03 10:42:57.176673               0                   2  ...   \n",
              "2  2018-11-03 10:42:57.176727               1                   2  ...   \n",
              "3  2018-11-03 10:42:57.176729               1                   2  ...   \n",
              "4  2018-11-03 10:42:57.177121               1                   2  ...   \n",
              "\n",
              "    Active Std   Active Max   Active Min  Idle Mean   Idle Std   Idle Max  \\\n",
              "0          0.0          0.0          0.0        0.0        0.0        0.0   \n",
              "1          0.0          0.0          0.0        0.0        0.0        0.0   \n",
              "2          0.0          0.0          0.0        0.0        0.0        0.0   \n",
              "3          0.0          0.0          0.0        0.0        0.0        0.0   \n",
              "4          0.0          0.0          0.0        0.0        0.0        0.0   \n",
              "\n",
              "    Idle Min  SimillarHTTP   Inbound   Label  \n",
              "0        0.0             0         1       1  \n",
              "1        0.0             0         1       1  \n",
              "2        0.0             0         1       1  \n",
              "3        0.0             0         1       1  \n",
              "4        0.0             0         1       1  \n",
              "\n",
              "[5 rows x 88 columns]"
            ],
            "text/html": [
              "\n",
              "  <div id=\"df-f30d6f47-d7fb-454b-b057-551df201361f\">\n",
              "    <div class=\"colab-df-container\">\n",
              "      <div>\n",
              "<style scoped>\n",
              "    .dataframe tbody tr th:only-of-type {\n",
              "        vertical-align: middle;\n",
              "    }\n",
              "\n",
              "    .dataframe tbody tr th {\n",
              "        vertical-align: top;\n",
              "    }\n",
              "\n",
              "    .dataframe thead th {\n",
              "        text-align: right;\n",
              "    }\n",
              "</style>\n",
              "<table border=\"1\" class=\"dataframe\">\n",
              "  <thead>\n",
              "    <tr style=\"text-align: right;\">\n",
              "      <th></th>\n",
              "      <th>Unnamed: 0</th>\n",
              "      <th>Flow ID</th>\n",
              "      <th>Source IP</th>\n",
              "      <th>Source Port</th>\n",
              "      <th>Destination IP</th>\n",
              "      <th>Destination Port</th>\n",
              "      <th>Protocol</th>\n",
              "      <th>Timestamp</th>\n",
              "      <th>Flow Duration</th>\n",
              "      <th>Total Fwd Packets</th>\n",
              "      <th>...</th>\n",
              "      <th>Active Std</th>\n",
              "      <th>Active Max</th>\n",
              "      <th>Active Min</th>\n",
              "      <th>Idle Mean</th>\n",
              "      <th>Idle Std</th>\n",
              "      <th>Idle Max</th>\n",
              "      <th>Idle Min</th>\n",
              "      <th>SimillarHTTP</th>\n",
              "      <th>Inbound</th>\n",
              "      <th>Label</th>\n",
              "    </tr>\n",
              "  </thead>\n",
              "  <tbody>\n",
              "    <tr>\n",
              "      <th>0</th>\n",
              "      <td>15798</td>\n",
              "      <td>172.16.0.5-192.168.50.4-9401-15931-17</td>\n",
              "      <td>172.16.0.5</td>\n",
              "      <td>9401</td>\n",
              "      <td>192.168.50.4</td>\n",
              "      <td>15931</td>\n",
              "      <td>17</td>\n",
              "      <td>2018-11-03 10:42:57.176671</td>\n",
              "      <td>1</td>\n",
              "      <td>2</td>\n",
              "      <td>...</td>\n",
              "      <td>0.0</td>\n",
              "      <td>0.0</td>\n",
              "      <td>0.0</td>\n",
              "      <td>0.0</td>\n",
              "      <td>0.0</td>\n",
              "      <td>0.0</td>\n",
              "      <td>0.0</td>\n",
              "      <td>0</td>\n",
              "      <td>1</td>\n",
              "      <td>1</td>\n",
              "    </tr>\n",
              "    <tr>\n",
              "      <th>1</th>\n",
              "      <td>110891</td>\n",
              "      <td>172.16.0.5-192.168.50.4-9402-29997-17</td>\n",
              "      <td>172.16.0.5</td>\n",
              "      <td>9402</td>\n",
              "      <td>192.168.50.4</td>\n",
              "      <td>29997</td>\n",
              "      <td>17</td>\n",
              "      <td>2018-11-03 10:42:57.176673</td>\n",
              "      <td>0</td>\n",
              "      <td>2</td>\n",
              "      <td>...</td>\n",
              "      <td>0.0</td>\n",
              "      <td>0.0</td>\n",
              "      <td>0.0</td>\n",
              "      <td>0.0</td>\n",
              "      <td>0.0</td>\n",
              "      <td>0.0</td>\n",
              "      <td>0.0</td>\n",
              "      <td>0</td>\n",
              "      <td>1</td>\n",
              "      <td>1</td>\n",
              "    </tr>\n",
              "    <tr>\n",
              "      <th>2</th>\n",
              "      <td>66956</td>\n",
              "      <td>172.16.0.5-192.168.50.4-9403-29887-17</td>\n",
              "      <td>172.16.0.5</td>\n",
              "      <td>9403</td>\n",
              "      <td>192.168.50.4</td>\n",
              "      <td>29887</td>\n",
              "      <td>17</td>\n",
              "      <td>2018-11-03 10:42:57.176727</td>\n",
              "      <td>1</td>\n",
              "      <td>2</td>\n",
              "      <td>...</td>\n",
              "      <td>0.0</td>\n",
              "      <td>0.0</td>\n",
              "      <td>0.0</td>\n",
              "      <td>0.0</td>\n",
              "      <td>0.0</td>\n",
              "      <td>0.0</td>\n",
              "      <td>0.0</td>\n",
              "      <td>0</td>\n",
              "      <td>1</td>\n",
              "      <td>1</td>\n",
              "    </tr>\n",
              "    <tr>\n",
              "      <th>3</th>\n",
              "      <td>66144</td>\n",
              "      <td>172.16.0.5-192.168.50.4-9404-7393-17</td>\n",
              "      <td>172.16.0.5</td>\n",
              "      <td>9404</td>\n",
              "      <td>192.168.50.4</td>\n",
              "      <td>7393</td>\n",
              "      <td>17</td>\n",
              "      <td>2018-11-03 10:42:57.176729</td>\n",
              "      <td>1</td>\n",
              "      <td>2</td>\n",
              "      <td>...</td>\n",
              "      <td>0.0</td>\n",
              "      <td>0.0</td>\n",
              "      <td>0.0</td>\n",
              "      <td>0.0</td>\n",
              "      <td>0.0</td>\n",
              "      <td>0.0</td>\n",
              "      <td>0.0</td>\n",
              "      <td>0</td>\n",
              "      <td>1</td>\n",
              "      <td>1</td>\n",
              "    </tr>\n",
              "    <tr>\n",
              "      <th>4</th>\n",
              "      <td>72903</td>\n",
              "      <td>172.16.0.5-192.168.50.4-9405-57957-17</td>\n",
              "      <td>172.16.0.5</td>\n",
              "      <td>9405</td>\n",
              "      <td>192.168.50.4</td>\n",
              "      <td>57957</td>\n",
              "      <td>17</td>\n",
              "      <td>2018-11-03 10:42:57.177121</td>\n",
              "      <td>1</td>\n",
              "      <td>2</td>\n",
              "      <td>...</td>\n",
              "      <td>0.0</td>\n",
              "      <td>0.0</td>\n",
              "      <td>0.0</td>\n",
              "      <td>0.0</td>\n",
              "      <td>0.0</td>\n",
              "      <td>0.0</td>\n",
              "      <td>0.0</td>\n",
              "      <td>0</td>\n",
              "      <td>1</td>\n",
              "      <td>1</td>\n",
              "    </tr>\n",
              "  </tbody>\n",
              "</table>\n",
              "<p>5 rows × 88 columns</p>\n",
              "</div>\n",
              "      <button class=\"colab-df-convert\" onclick=\"convertToInteractive('df-f30d6f47-d7fb-454b-b057-551df201361f')\"\n",
              "              title=\"Convert this dataframe to an interactive table.\"\n",
              "              style=\"display:none;\">\n",
              "        \n",
              "  <svg xmlns=\"http://www.w3.org/2000/svg\" height=\"24px\"viewBox=\"0 0 24 24\"\n",
              "       width=\"24px\">\n",
              "    <path d=\"M0 0h24v24H0V0z\" fill=\"none\"/>\n",
              "    <path d=\"M18.56 5.44l.94 2.06.94-2.06 2.06-.94-2.06-.94-.94-2.06-.94 2.06-2.06.94zm-11 1L8.5 8.5l.94-2.06 2.06-.94-2.06-.94L8.5 2.5l-.94 2.06-2.06.94zm10 10l.94 2.06.94-2.06 2.06-.94-2.06-.94-.94-2.06-.94 2.06-2.06.94z\"/><path d=\"M17.41 7.96l-1.37-1.37c-.4-.4-.92-.59-1.43-.59-.52 0-1.04.2-1.43.59L10.3 9.45l-7.72 7.72c-.78.78-.78 2.05 0 2.83L4 21.41c.39.39.9.59 1.41.59.51 0 1.02-.2 1.41-.59l7.78-7.78 2.81-2.81c.8-.78.8-2.07 0-2.86zM5.41 20L4 18.59l7.72-7.72 1.47 1.35L5.41 20z\"/>\n",
              "  </svg>\n",
              "      </button>\n",
              "      \n",
              "  <style>\n",
              "    .colab-df-container {\n",
              "      display:flex;\n",
              "      flex-wrap:wrap;\n",
              "      gap: 12px;\n",
              "    }\n",
              "\n",
              "    .colab-df-convert {\n",
              "      background-color: #E8F0FE;\n",
              "      border: none;\n",
              "      border-radius: 50%;\n",
              "      cursor: pointer;\n",
              "      display: none;\n",
              "      fill: #1967D2;\n",
              "      height: 32px;\n",
              "      padding: 0 0 0 0;\n",
              "      width: 32px;\n",
              "    }\n",
              "\n",
              "    .colab-df-convert:hover {\n",
              "      background-color: #E2EBFA;\n",
              "      box-shadow: 0px 1px 2px rgba(60, 64, 67, 0.3), 0px 1px 3px 1px rgba(60, 64, 67, 0.15);\n",
              "      fill: #174EA6;\n",
              "    }\n",
              "\n",
              "    [theme=dark] .colab-df-convert {\n",
              "      background-color: #3B4455;\n",
              "      fill: #D2E3FC;\n",
              "    }\n",
              "\n",
              "    [theme=dark] .colab-df-convert:hover {\n",
              "      background-color: #434B5C;\n",
              "      box-shadow: 0px 1px 3px 1px rgba(0, 0, 0, 0.15);\n",
              "      filter: drop-shadow(0px 1px 2px rgba(0, 0, 0, 0.3));\n",
              "      fill: #FFFFFF;\n",
              "    }\n",
              "  </style>\n",
              "\n",
              "      <script>\n",
              "        const buttonEl =\n",
              "          document.querySelector('#df-f30d6f47-d7fb-454b-b057-551df201361f button.colab-df-convert');\n",
              "        buttonEl.style.display =\n",
              "          google.colab.kernel.accessAllowed ? 'block' : 'none';\n",
              "\n",
              "        async function convertToInteractive(key) {\n",
              "          const element = document.querySelector('#df-f30d6f47-d7fb-454b-b057-551df201361f');\n",
              "          const dataTable =\n",
              "            await google.colab.kernel.invokeFunction('convertToInteractive',\n",
              "                                                     [key], {});\n",
              "          if (!dataTable) return;\n",
              "\n",
              "          const docLinkHtml = 'Like what you see? Visit the ' +\n",
              "            '<a target=\"_blank\" href=https://colab.research.google.com/notebooks/data_table.ipynb>data table notebook</a>'\n",
              "            + ' to learn more about interactive tables.';\n",
              "          element.innerHTML = '';\n",
              "          dataTable['output_type'] = 'display_data';\n",
              "          await google.colab.output.renderOutput(dataTable, element);\n",
              "          const docLink = document.createElement('div');\n",
              "          docLink.innerHTML = docLinkHtml;\n",
              "          element.appendChild(docLink);\n",
              "        }\n",
              "      </script>\n",
              "    </div>\n",
              "  </div>\n",
              "  "
            ]
          },
          "metadata": {},
          "execution_count": 17
        }
      ],
      "source": [
        "dataset.head()"
      ]
    },
    {
      "cell_type": "markdown",
      "metadata": {
        "id": "TJxP1-TNerYp"
      },
      "source": [
        "# **III. Missing Value Identification**"
      ]
    },
    {
      "cell_type": "code",
      "execution_count": 18,
      "metadata": {
        "id": "Uv1kfFLPexwP",
        "colab": {
          "base_uri": "https://localhost:8080/",
          "height": 0
        },
        "outputId": "a6e4c385-c9a2-4e8f-e8b7-2d62c8931588"
      },
      "outputs": [
        {
          "output_type": "execute_result",
          "data": {
            "text/plain": [
              "Text(0.5, 1.0, 'Features which has NuLL values')"
            ]
          },
          "metadata": {},
          "execution_count": 18
        },
        {
          "output_type": "display_data",
          "data": {
            "text/plain": [
              "<Figure size 2400x800 with 1 Axes>"
            ],
            "image/png": "[encoded data removed]"
          },
          "metadata": {
            "needs_background": "light"
          }
        }
      ],
      "source": [
        "# Kita akan melihat data dengan NaN dengan visualisasi agar lebih nyaman\n",
        "plt.figure(figsize=(30, 10), dpi=80)\n",
        "dataset[dataset.columns[dataset.isna().sum() >= 0]].isna().sum().sort_values().plot.bar()\n",
        "plt.title(\"Features which has NuLL values\")"
      ]
    },
    {
      "cell_type": "code",
      "execution_count": 19,
      "metadata": {
        "id": "JG3dAUvhmSeJ",
        "colab": {
          "base_uri": "https://localhost:8080/"
        },
        "outputId": "c38f3eac-618f-4a0d-933a-9acaa896a7b9"
      },
      "outputs": [
        {
          "output_type": "execute_result",
          "data": {
            "text/plain": [
              "4"
            ]
          },
          "metadata": {},
          "execution_count": 19
        }
      ],
      "source": [
        "dataset.fillna(0)\n",
        "dataset[\"Flow Bytes/s\"].isna().sum()"
      ]
    },
    {
      "cell_type": "code",
      "execution_count": 20,
      "metadata": {
        "id": "CoCktdEVf5PR",
        "colab": {
          "base_uri": "https://localhost:8080/"
        },
        "outputId": "9aa5c696-736b-47cd-b5bf-cc642f79d150"
      },
      "outputs": [
        {
          "output_type": "execute_result",
          "data": {
            "text/plain": [
              "Unnamed: 0         0\n",
              "Flow ID            0\n",
              " Source IP         0\n",
              " Source Port       0\n",
              " Destination IP    0\n",
              "                  ..\n",
              " Idle Max          0\n",
              " Idle Min          0\n",
              "SimillarHTTP       0\n",
              " Inbound           0\n",
              " Label             0\n",
              "Length: 88, dtype: int64"
            ]
          },
          "metadata": {},
          "execution_count": 20
        }
      ],
      "source": [
        "dataset.isnull().sum()"
      ]
    },
    {
      "cell_type": "markdown",
      "metadata": {
        "id": "U9S-qWmRgxyc"
      },
      "source": [
        "# **IV. Feature Selection**"
      ]
    },
    {
      "cell_type": "code",
      "execution_count": null,
      "metadata": {
        "id": "db43t7TDg4SH",
        "colab": {
          "base_uri": "https://localhost:8080/",
          "height": 546
        },
        "outputId": "8e1c138a-581d-4ab9-d006-3152d514d40d"
      },
      "outputs": [
        {
          "output_type": "stream",
          "name": "stderr",
          "text": [
            "/usr/local/lib/python3.8/dist-packages/scipy/stats/stats.py:4812: RuntimeWarning: overflow encountered in long_scalars\n",
            "  (2 * xtie * ytie) / m + x0 * y0 / (9 * m * (size - 2)))\n",
            "/usr/local/lib/python3.8/dist-packages/scipy/stats/stats.py:4814: RuntimeWarning: invalid value encountered in sqrt\n",
            "  np.sqrt(var) / np.sqrt(2)))\n"
          ]
        },
        {
          "output_type": "error",
          "ename": "KeyboardInterrupt",
          "evalue": "ignored",
          "traceback": [
            "\u001b[0;31m---------------------------------------------------------------------------\u001b[0m",
            "\u001b[0;31mKeyboardInterrupt\u001b[0m                         Traceback (most recent call last)",
            "\u001b[0;32m<ipython-input-19-84df1d039633>\u001b[0m in \u001b[0;36m<module>\u001b[0;34m\u001b[0m\n\u001b[0;32m----> 1\u001b[0;31m \u001b[0mkorelasi\u001b[0m \u001b[0;34m=\u001b[0m \u001b[0mdataset\u001b[0m\u001b[0;34m.\u001b[0m\u001b[0mcorr\u001b[0m\u001b[0;34m(\u001b[0m\u001b[0mmethod\u001b[0m\u001b[0;34m=\u001b[0m\u001b[0;34m'kendall'\u001b[0m\u001b[0;34m)\u001b[0m\u001b[0;34m\u001b[0m\u001b[0;34m\u001b[0m\u001b[0m\n\u001b[0m\u001b[1;32m      2\u001b[0m \u001b[0;34m\u001b[0m\u001b[0m\n\u001b[1;32m      3\u001b[0m \u001b[0mkor_target\u001b[0m \u001b[0;34m=\u001b[0m \u001b[0mabs\u001b[0m\u001b[0;34m(\u001b[0m\u001b[0mkorelasi\u001b[0m\u001b[0;34m[\u001b[0m\u001b[0;34m' Label'\u001b[0m\u001b[0;34m]\u001b[0m\u001b[0;34m)\u001b[0m\u001b[0;34m\u001b[0m\u001b[0;34m\u001b[0m\u001b[0m\n\u001b[1;32m      4\u001b[0m \u001b[0mfeature\u001b[0m \u001b[0;34m=\u001b[0m \u001b[0mkor_target\u001b[0m\u001b[0;34m[\u001b[0m\u001b[0mkor_target\u001b[0m \u001b[0;34m>\u001b[0m \u001b[0;36m0.70\u001b[0m\u001b[0;34m]\u001b[0m\u001b[0;34m\u001b[0m\u001b[0;34m\u001b[0m\u001b[0m\n\u001b[1;32m      5\u001b[0m \u001b[0mprint\u001b[0m\u001b[0;34m(\u001b[0m\u001b[0mfeature\u001b[0m\u001b[0;34m)\u001b[0m\u001b[0;34m\u001b[0m\u001b[0;34m\u001b[0m\u001b[0m\n",
            "\u001b[0;32m/usr/local/lib/python3.8/dist-packages/pandas/core/frame.py\u001b[0m in \u001b[0;36mcorr\u001b[0;34m(self, method, min_periods)\u001b[0m\n\u001b[1;32m   9401\u001b[0m                         \u001b[0mc\u001b[0m \u001b[0;34m=\u001b[0m \u001b[0mcorrf\u001b[0m\u001b[0;34m(\u001b[0m\u001b[0mac\u001b[0m\u001b[0;34m[\u001b[0m\u001b[0mvalid\u001b[0m\u001b[0;34m]\u001b[0m\u001b[0;34m,\u001b[0m \u001b[0mbc\u001b[0m\u001b[0;34m[\u001b[0m\u001b[0mvalid\u001b[0m\u001b[0;34m]\u001b[0m\u001b[0;34m)\u001b[0m\u001b[0;34m\u001b[0m\u001b[0;34m\u001b[0m\u001b[0m\n\u001b[1;32m   9402\u001b[0m                     \u001b[0;32melse\u001b[0m\u001b[0;34m:\u001b[0m\u001b[0;34m\u001b[0m\u001b[0;34m\u001b[0m\u001b[0m\n\u001b[0;32m-> 9403\u001b[0;31m                         \u001b[0mc\u001b[0m \u001b[0;34m=\u001b[0m \u001b[0mcorrf\u001b[0m\u001b[0;34m(\u001b[0m\u001b[0mac\u001b[0m\u001b[0;34m,\u001b[0m \u001b[0mbc\u001b[0m\u001b[0;34m)\u001b[0m\u001b[0;34m\u001b[0m\u001b[0;34m\u001b[0m\u001b[0m\n\u001b[0m\u001b[1;32m   9404\u001b[0m                     \u001b[0mcorrel\u001b[0m\u001b[0;34m[\u001b[0m\u001b[0mi\u001b[0m\u001b[0;34m,\u001b[0m \u001b[0mj\u001b[0m\u001b[0;34m]\u001b[0m \u001b[0;34m=\u001b[0m \u001b[0mc\u001b[0m\u001b[0;34m\u001b[0m\u001b[0;34m\u001b[0m\u001b[0m\n\u001b[1;32m   9405\u001b[0m                     \u001b[0mcorrel\u001b[0m\u001b[0;34m[\u001b[0m\u001b[0mj\u001b[0m\u001b[0;34m,\u001b[0m \u001b[0mi\u001b[0m\u001b[0;34m]\u001b[0m \u001b[0;34m=\u001b[0m \u001b[0mc\u001b[0m\u001b[0;34m\u001b[0m\u001b[0;34m\u001b[0m\u001b[0m\n",
            "\u001b[0;32m/usr/local/lib/python3.8/dist-packages/pandas/core/nanops.py\u001b[0m in \u001b[0;36mfunc\u001b[0;34m(a, b)\u001b[0m\n\u001b[1;32m   1533\u001b[0m \u001b[0;34m\u001b[0m\u001b[0m\n\u001b[1;32m   1534\u001b[0m         \u001b[0;32mdef\u001b[0m \u001b[0mfunc\u001b[0m\u001b[0;34m(\u001b[0m\u001b[0ma\u001b[0m\u001b[0;34m,\u001b[0m \u001b[0mb\u001b[0m\u001b[0;34m)\u001b[0m\u001b[0;34m:\u001b[0m\u001b[0;34m\u001b[0m\u001b[0;34m\u001b[0m\u001b[0m\n\u001b[0;32m-> 1535\u001b[0;31m             \u001b[0;32mreturn\u001b[0m \u001b[0mkendalltau\u001b[0m\u001b[0;34m(\u001b[0m\u001b[0ma\u001b[0m\u001b[0;34m,\u001b[0m \u001b[0mb\u001b[0m\u001b[0;34m)\u001b[0m\u001b[0;34m[\u001b[0m\u001b[0;36m0\u001b[0m\u001b[0;34m]\u001b[0m\u001b[0;34m\u001b[0m\u001b[0;34m\u001b[0m\u001b[0m\n\u001b[0m\u001b[1;32m   1536\u001b[0m \u001b[0;34m\u001b[0m\u001b[0m\n\u001b[1;32m   1537\u001b[0m         \u001b[0;32mreturn\u001b[0m \u001b[0mfunc\u001b[0m\u001b[0;34m\u001b[0m\u001b[0;34m\u001b[0m\u001b[0m\n",
            "\u001b[0;32m/usr/local/lib/python3.8/dist-packages/scipy/stats/stats.py\u001b[0m in \u001b[0;36mkendalltau\u001b[0;34m(x, y, initial_lexsort, nan_policy, method, variant)\u001b[0m\n\u001b[1;32m   4759\u001b[0m \u001b[0;34m\u001b[0m\u001b[0m\n\u001b[1;32m   4760\u001b[0m     \u001b[0;31m# stable sort on x and convert x to dense ranks\u001b[0m\u001b[0;34m\u001b[0m\u001b[0;34m\u001b[0m\u001b[0;34m\u001b[0m\u001b[0m\n\u001b[0;32m-> 4761\u001b[0;31m     \u001b[0mperm\u001b[0m \u001b[0;34m=\u001b[0m \u001b[0mnp\u001b[0m\u001b[0;34m.\u001b[0m\u001b[0margsort\u001b[0m\u001b[0;34m(\u001b[0m\u001b[0mx\u001b[0m\u001b[0;34m,\u001b[0m \u001b[0mkind\u001b[0m\u001b[0;34m=\u001b[0m\u001b[0;34m'mergesort'\u001b[0m\u001b[0;34m)\u001b[0m\u001b[0;34m\u001b[0m\u001b[0;34m\u001b[0m\u001b[0m\n\u001b[0m\u001b[1;32m   4762\u001b[0m     \u001b[0mx\u001b[0m\u001b[0;34m,\u001b[0m \u001b[0my\u001b[0m \u001b[0;34m=\u001b[0m \u001b[0mx\u001b[0m\u001b[0;34m[\u001b[0m\u001b[0mperm\u001b[0m\u001b[0;34m]\u001b[0m\u001b[0;34m,\u001b[0m \u001b[0my\u001b[0m\u001b[0;34m[\u001b[0m\u001b[0mperm\u001b[0m\u001b[0;34m]\u001b[0m\u001b[0;34m\u001b[0m\u001b[0;34m\u001b[0m\u001b[0m\n\u001b[1;32m   4763\u001b[0m     \u001b[0mx\u001b[0m \u001b[0;34m=\u001b[0m \u001b[0mnp\u001b[0m\u001b[0;34m.\u001b[0m\u001b[0mr_\u001b[0m\u001b[0;34m[\u001b[0m\u001b[0;32mTrue\u001b[0m\u001b[0;34m,\u001b[0m \u001b[0mx\u001b[0m\u001b[0;34m[\u001b[0m\u001b[0;36m1\u001b[0m\u001b[0;34m:\u001b[0m\u001b[0;34m]\u001b[0m \u001b[0;34m!=\u001b[0m \u001b[0mx\u001b[0m\u001b[0;34m[\u001b[0m\u001b[0;34m:\u001b[0m\u001b[0;34m-\u001b[0m\u001b[0;36m1\u001b[0m\u001b[0;34m]\u001b[0m\u001b[0;34m]\u001b[0m\u001b[0;34m.\u001b[0m\u001b[0mcumsum\u001b[0m\u001b[0;34m(\u001b[0m\u001b[0mdtype\u001b[0m\u001b[0;34m=\u001b[0m\u001b[0mnp\u001b[0m\u001b[0;34m.\u001b[0m\u001b[0mintp\u001b[0m\u001b[0;34m)\u001b[0m\u001b[0;34m\u001b[0m\u001b[0;34m\u001b[0m\u001b[0m\n",
            "\u001b[0;32m<__array_function__ internals>\u001b[0m in \u001b[0;36margsort\u001b[0;34m(*args, **kwargs)\u001b[0m\n",
            "\u001b[0;32m/usr/local/lib/python3.8/dist-packages/numpy/core/fromnumeric.py\u001b[0m in \u001b[0;36margsort\u001b[0;34m(a, axis, kind, order)\u001b[0m\n\u001b[1;32m   1112\u001b[0m \u001b[0;34m\u001b[0m\u001b[0m\n\u001b[1;32m   1113\u001b[0m     \"\"\"\n\u001b[0;32m-> 1114\u001b[0;31m     \u001b[0;32mreturn\u001b[0m \u001b[0m_wrapfunc\u001b[0m\u001b[0;34m(\u001b[0m\u001b[0ma\u001b[0m\u001b[0;34m,\u001b[0m \u001b[0;34m'argsort'\u001b[0m\u001b[0;34m,\u001b[0m \u001b[0maxis\u001b[0m\u001b[0;34m=\u001b[0m\u001b[0maxis\u001b[0m\u001b[0;34m,\u001b[0m \u001b[0mkind\u001b[0m\u001b[0;34m=\u001b[0m\u001b[0mkind\u001b[0m\u001b[0;34m,\u001b[0m \u001b[0morder\u001b[0m\u001b[0;34m=\u001b[0m\u001b[0morder\u001b[0m\u001b[0;34m)\u001b[0m\u001b[0;34m\u001b[0m\u001b[0;34m\u001b[0m\u001b[0m\n\u001b[0m\u001b[1;32m   1115\u001b[0m \u001b[0;34m\u001b[0m\u001b[0m\n\u001b[1;32m   1116\u001b[0m \u001b[0;34m\u001b[0m\u001b[0m\n",
            "\u001b[0;32m/usr/local/lib/python3.8/dist-packages/numpy/core/fromnumeric.py\u001b[0m in \u001b[0;36m_wrapfunc\u001b[0;34m(obj, method, *args, **kwds)\u001b[0m\n\u001b[1;32m     55\u001b[0m \u001b[0;34m\u001b[0m\u001b[0m\n\u001b[1;32m     56\u001b[0m     \u001b[0;32mtry\u001b[0m\u001b[0;34m:\u001b[0m\u001b[0;34m\u001b[0m\u001b[0;34m\u001b[0m\u001b[0m\n\u001b[0;32m---> 57\u001b[0;31m         \u001b[0;32mreturn\u001b[0m \u001b[0mbound\u001b[0m\u001b[0;34m(\u001b[0m\u001b[0;34m*\u001b[0m\u001b[0margs\u001b[0m\u001b[0;34m,\u001b[0m \u001b[0;34m**\u001b[0m\u001b[0mkwds\u001b[0m\u001b[0;34m)\u001b[0m\u001b[0;34m\u001b[0m\u001b[0;34m\u001b[0m\u001b[0m\n\u001b[0m\u001b[1;32m     58\u001b[0m     \u001b[0;32mexcept\u001b[0m \u001b[0mTypeError\u001b[0m\u001b[0;34m:\u001b[0m\u001b[0;34m\u001b[0m\u001b[0;34m\u001b[0m\u001b[0m\n\u001b[1;32m     59\u001b[0m         \u001b[0;31m# A TypeError occurs if the object does have such a method in its\u001b[0m\u001b[0;34m\u001b[0m\u001b[0;34m\u001b[0m\u001b[0;34m\u001b[0m\u001b[0m\n",
            "\u001b[0;31mKeyboardInterrupt\u001b[0m: "
          ]
        }
      ],
      "source": [
        "korelasi = dataset.corr(method='kendall')\n",
        "\n",
        "kor_target = abs(korelasi[' Label'])\n",
        "feature = kor_target[kor_target > 0.70]\n",
        "print(feature)"
      ]
    },
    {
      "cell_type": "code",
      "execution_count": null,
      "metadata": {
        "id": "fUM3h60ggdij",
        "colab": {
          "base_uri": "https://localhost:8080/"
        },
        "outputId": "af3ab265-4875-49e4-f7df-07aa5627c6ca"
      },
      "outputs": [
        {
          "output_type": "stream",
          "name": "stdout",
          "text": [
            "Looking in indexes: https://pypi.org/simple, https://us-python.pkg.dev/colab-wheels/public/simple/\n",
            "Requirement already satisfied: imbalanced-learn in /usr/local/lib/python3.8/dist-packages (0.8.1)\n",
            "Requirement already satisfied: joblib>=0.11 in /usr/local/lib/python3.8/dist-packages (from imbalanced-learn) (1.2.0)\n",
            "Requirement already satisfied: scikit-learn>=0.24 in /usr/local/lib/python3.8/dist-packages (from imbalanced-learn) (1.0.2)\n",
            "Requirement already satisfied: scipy>=0.19.1 in /usr/local/lib/python3.8/dist-packages (from imbalanced-learn) (1.7.3)\n",
            "Requirement already satisfied: numpy>=1.13.3 in /usr/local/lib/python3.8/dist-packages (from imbalanced-learn) (1.21.6)\n",
            "Requirement already satisfied: threadpoolctl>=2.0.0 in /usr/local/lib/python3.8/dist-packages (from scikit-learn>=0.24->imbalanced-learn) (3.1.0)\n"
          ]
        }
      ],
      "source": [
        "!pip install imbalanced-learn"
      ]
    },
    {
      "cell_type": "code",
      "execution_count": 21,
      "metadata": {
        "id": "7A6a61PEgvtF"
      },
      "outputs": [],
      "source": [
        "from collections import Counter\n",
        "from imblearn.over_sampling import SMOTE\n",
        "from imblearn.over_sampling import RandomOverSampler"
      ]
    },
    {
      "cell_type": "code",
      "source": [
        "dataset.columns"
      ],
      "metadata": {
        "id": "tf4m2i3yF5fS",
        "colab": {
          "base_uri": "https://localhost:8080/"
        },
        "outputId": "7923e9f1-28bb-4306-f2a8-75f430a06f17"
      },
      "execution_count": 22,
      "outputs": [
        {
          "output_type": "execute_result",
          "data": {
            "text/plain": [
              "Index(['Unnamed: 0', 'Flow ID', ' Source IP', ' Source Port',\n",
              "       ' Destination IP', ' Destination Port', ' Protocol', ' Timestamp',\n",
              "       ' Flow Duration', ' Total Fwd Packets', ' Total Backward Packets',\n",
              "       'Total Length of Fwd Packets', ' Total Length of Bwd Packets',\n",
              "       ' Fwd Packet Length Max', ' Fwd Packet Length Min',\n",
              "       ' Fwd Packet Length Mean', ' Fwd Packet Length Std',\n",
              "       'Bwd Packet Length Max', ' Bwd Packet Length Min',\n",
              "       ' Bwd Packet Length Mean', ' Bwd Packet Length Std', 'Flow Bytes/s',\n",
              "       ' Flow Packets/s', ' Flow IAT Mean', ' Flow IAT Std', ' Flow IAT Max',\n",
              "       ' Flow IAT Min', 'Fwd IAT Total', ' Fwd IAT Mean', ' Fwd IAT Std',\n",
              "       ' Fwd IAT Max', ' Fwd IAT Min', 'Bwd IAT Total', ' Bwd IAT Mean',\n",
              "       ' Bwd IAT Std', ' Bwd IAT Max', ' Bwd IAT Min', 'Fwd PSH Flags',\n",
              "       ' Bwd PSH Flags', ' Fwd URG Flags', ' Bwd URG Flags',\n",
              "       ' Fwd Header Length', ' Bwd Header Length', 'Fwd Packets/s',\n",
              "       ' Bwd Packets/s', ' Min Packet Length', ' Max Packet Length',\n",
              "       ' Packet Length Mean', ' Packet Length Std', ' Packet Length Variance',\n",
              "       'FIN Flag Count', ' SYN Flag Count', ' RST Flag Count',\n",
              "       ' PSH Flag Count', ' ACK Flag Count', ' URG Flag Count',\n",
              "       ' CWE Flag Count', ' ECE Flag Count', ' Down/Up Ratio',\n",
              "       ' Average Packet Size', ' Avg Fwd Segment Size',\n",
              "       ' Avg Bwd Segment Size', ' Fwd Header Length.1', 'Fwd Avg Bytes/Bulk',\n",
              "       ' Fwd Avg Packets/Bulk', ' Fwd Avg Bulk Rate', ' Bwd Avg Bytes/Bulk',\n",
              "       ' Bwd Avg Packets/Bulk', 'Bwd Avg Bulk Rate', 'Subflow Fwd Packets',\n",
              "       ' Subflow Fwd Bytes', ' Subflow Bwd Packets', ' Subflow Bwd Bytes',\n",
              "       'Init_Win_bytes_forward', ' Init_Win_bytes_backward',\n",
              "       ' act_data_pkt_fwd', ' min_seg_size_forward', 'Active Mean',\n",
              "       ' Active Std', ' Active Max', ' Active Min', 'Idle Mean', ' Idle Std',\n",
              "       ' Idle Max', ' Idle Min', 'SimillarHTTP', ' Inbound', ' Label'],\n",
              "      dtype='object')"
            ]
          },
          "metadata": {},
          "execution_count": 22
        }
      ]
    },
    {
      "cell_type": "code",
      "execution_count": 23,
      "metadata": {
        "id": "34xuuysvjTkE",
        "colab": {
          "base_uri": "https://localhost:8080/",
          "height": 540
        },
        "outputId": "edd2e2a3-6335-4c93-c209-6404f52bc03c"
      },
      "outputs": [
        {
          "output_type": "execute_result",
          "data": {
            "text/plain": [
              "          Destination Port   Flow Duration   Fwd Packet Length Min  \\\n",
              "0                    15931               1                  1280.0   \n",
              "1                    29997               0                   408.0   \n",
              "2                    29887               1                   405.0   \n",
              "3                     7393               1                   426.0   \n",
              "4                    57957               1                   620.0   \n",
              "...                    ...             ...                     ...   \n",
              "3782201              39817               1                   330.0   \n",
              "3782202              36358               2                   321.0   \n",
              "3782203              40307               1                   383.0   \n",
              "3782204              43637               2                   383.0   \n",
              "3782205              20186              47                   330.0   \n",
              "\n",
              "         Flow Bytes/s   Flow IAT Min   Bwd Header Length   Bwd Packets/s  \\\n",
              "0        2.560000e+09            1.0                   0             0.0   \n",
              "1                 inf            0.0                   0             0.0   \n",
              "2        8.100000e+08            1.0                   0             0.0   \n",
              "3        8.520000e+08            1.0                   0             0.0   \n",
              "4        1.240000e+09            1.0                   0             0.0   \n",
              "...               ...            ...                 ...             ...   \n",
              "3782201  6.600000e+08            1.0                   0             0.0   \n",
              "3782202  3.210000e+08            2.0                   0             0.0   \n",
              "3782203  7.660000e+08            1.0                   0             0.0   \n",
              "3782204  3.830000e+08            2.0                   0             0.0   \n",
              "3782205  1.404255e+07           47.0                   0             0.0   \n",
              "\n",
              "          Min Packet Length   Subflow Bwd Packets   Init_Win_bytes_backward  \n",
              "0                    1280.0                     0                        -1  \n",
              "1                     408.0                     0                        -1  \n",
              "2                     405.0                     0                        -1  \n",
              "3                     426.0                     0                        -1  \n",
              "4                     620.0                     0                        -1  \n",
              "...                     ...                   ...                       ...  \n",
              "3782201               330.0                     0                        -1  \n",
              "3782202               321.0                     0                        -1  \n",
              "3782203               383.0                     0                        -1  \n",
              "3782204               383.0                     0                        -1  \n",
              "3782205               330.0                     0                        -1  \n",
              "\n",
              "[3782206 rows x 10 columns]"
            ],
            "text/html": [
              "\n",
              "  <div id=\"df-8d0ae5a1-c626-45b8-bf45-d52a2ec4b3a4\">\n",
              "    <div class=\"colab-df-container\">\n",
              "      <div>\n",
              "<style scoped>\n",
              "    .dataframe tbody tr th:only-of-type {\n",
              "        vertical-align: middle;\n",
              "    }\n",
              "\n",
              "    .dataframe tbody tr th {\n",
              "        vertical-align: top;\n",
              "    }\n",
              "\n",
              "    .dataframe thead th {\n",
              "        text-align: right;\n",
              "    }\n",
              "</style>\n",
              "<table border=\"1\" class=\"dataframe\">\n",
              "  <thead>\n",
              "    <tr style=\"text-align: right;\">\n",
              "      <th></th>\n",
              "      <th>Destination Port</th>\n",
              "      <th>Flow Duration</th>\n",
              "      <th>Fwd Packet Length Min</th>\n",
              "      <th>Flow Bytes/s</th>\n",
              "      <th>Flow IAT Min</th>\n",
              "      <th>Bwd Header Length</th>\n",
              "      <th>Bwd Packets/s</th>\n",
              "      <th>Min Packet Length</th>\n",
              "      <th>Subflow Bwd Packets</th>\n",
              "      <th>Init_Win_bytes_backward</th>\n",
              "    </tr>\n",
              "  </thead>\n",
              "  <tbody>\n",
              "    <tr>\n",
              "      <th>0</th>\n",
              "      <td>15931</td>\n",
              "      <td>1</td>\n",
              "      <td>1280.0</td>\n",
              "      <td>2.560000e+09</td>\n",
              "      <td>1.0</td>\n",
              "      <td>0</td>\n",
              "      <td>0.0</td>\n",
              "      <td>1280.0</td>\n",
              "      <td>0</td>\n",
              "      <td>-1</td>\n",
              "    </tr>\n",
              "    <tr>\n",
              "      <th>1</th>\n",
              "      <td>29997</td>\n",
              "      <td>0</td>\n",
              "      <td>408.0</td>\n",
              "      <td>inf</td>\n",
              "      <td>0.0</td>\n",
              "      <td>0</td>\n",
              "      <td>0.0</td>\n",
              "      <td>408.0</td>\n",
              "      <td>0</td>\n",
              "      <td>-1</td>\n",
              "    </tr>\n",
              "    <tr>\n",
              "      <th>2</th>\n",
              "      <td>29887</td>\n",
              "      <td>1</td>\n",
              "      <td>405.0</td>\n",
              "      <td>8.100000e+08</td>\n",
              "      <td>1.0</td>\n",
              "      <td>0</td>\n",
              "      <td>0.0</td>\n",
              "      <td>405.0</td>\n",
              "      <td>0</td>\n",
              "      <td>-1</td>\n",
              "    </tr>\n",
              "    <tr>\n",
              "      <th>3</th>\n",
              "      <td>7393</td>\n",
              "      <td>1</td>\n",
              "      <td>426.0</td>\n",
              "      <td>8.520000e+08</td>\n",
              "      <td>1.0</td>\n",
              "      <td>0</td>\n",
              "      <td>0.0</td>\n",
              "      <td>426.0</td>\n",
              "      <td>0</td>\n",
              "      <td>-1</td>\n",
              "    </tr>\n",
              "    <tr>\n",
              "      <th>4</th>\n",
              "      <td>57957</td>\n",
              "      <td>1</td>\n",
              "      <td>620.0</td>\n",
              "      <td>1.240000e+09</td>\n",
              "      <td>1.0</td>\n",
              "      <td>0</td>\n",
              "      <td>0.0</td>\n",
              "      <td>620.0</td>\n",
              "      <td>0</td>\n",
              "      <td>-1</td>\n",
              "    </tr>\n",
              "    <tr>\n",
              "      <th>...</th>\n",
              "      <td>...</td>\n",
              "      <td>...</td>\n",
              "      <td>...</td>\n",
              "      <td>...</td>\n",
              "      <td>...</td>\n",
              "      <td>...</td>\n",
              "      <td>...</td>\n",
              "      <td>...</td>\n",
              "      <td>...</td>\n",
              "      <td>...</td>\n",
              "    </tr>\n",
              "    <tr>\n",
              "      <th>3782201</th>\n",
              "      <td>39817</td>\n",
              "      <td>1</td>\n",
              "      <td>330.0</td>\n",
              "      <td>6.600000e+08</td>\n",
              "      <td>1.0</td>\n",
              "      <td>0</td>\n",
              "      <td>0.0</td>\n",
              "      <td>330.0</td>\n",
              "      <td>0</td>\n",
              "      <td>-1</td>\n",
              "    </tr>\n",
              "    <tr>\n",
              "      <th>3782202</th>\n",
              "      <td>36358</td>\n",
              "      <td>2</td>\n",
              "      <td>321.0</td>\n",
              "      <td>3.210000e+08</td>\n",
              "      <td>2.0</td>\n",
              "      <td>0</td>\n",
              "      <td>0.0</td>\n",
              "      <td>321.0</td>\n",
              "      <td>0</td>\n",
              "      <td>-1</td>\n",
              "    </tr>\n",
              "    <tr>\n",
              "      <th>3782203</th>\n",
              "      <td>40307</td>\n",
              "      <td>1</td>\n",
              "      <td>383.0</td>\n",
              "      <td>7.660000e+08</td>\n",
              "      <td>1.0</td>\n",
              "      <td>0</td>\n",
              "      <td>0.0</td>\n",
              "      <td>383.0</td>\n",
              "      <td>0</td>\n",
              "      <td>-1</td>\n",
              "    </tr>\n",
              "    <tr>\n",
              "      <th>3782204</th>\n",
              "      <td>43637</td>\n",
              "      <td>2</td>\n",
              "      <td>383.0</td>\n",
              "      <td>3.830000e+08</td>\n",
              "      <td>2.0</td>\n",
              "      <td>0</td>\n",
              "      <td>0.0</td>\n",
              "      <td>383.0</td>\n",
              "      <td>0</td>\n",
              "      <td>-1</td>\n",
              "    </tr>\n",
              "    <tr>\n",
              "      <th>3782205</th>\n",
              "      <td>20186</td>\n",
              "      <td>47</td>\n",
              "      <td>330.0</td>\n",
              "      <td>1.404255e+07</td>\n",
              "      <td>47.0</td>\n",
              "      <td>0</td>\n",
              "      <td>0.0</td>\n",
              "      <td>330.0</td>\n",
              "      <td>0</td>\n",
              "      <td>-1</td>\n",
              "    </tr>\n",
              "  </tbody>\n",
              "</table>\n",
              "<p>3782206 rows × 10 columns</p>\n",
              "</div>\n",
              "      <button class=\"colab-df-convert\" onclick=\"convertToInteractive('df-8d0ae5a1-c626-45b8-bf45-d52a2ec4b3a4')\"\n",
              "              title=\"Convert this dataframe to an interactive table.\"\n",
              "              style=\"display:none;\">\n",
              "        \n",
              "  <svg xmlns=\"http://www.w3.org/2000/svg\" height=\"24px\"viewBox=\"0 0 24 24\"\n",
              "       width=\"24px\">\n",
              "    <path d=\"M0 0h24v24H0V0z\" fill=\"none\"/>\n",
              "    <path d=\"M18.56 5.44l.94 2.06.94-2.06 2.06-.94-2.06-.94-.94-2.06-.94 2.06-2.06.94zm-11 1L8.5 8.5l.94-2.06 2.06-.94-2.06-.94L8.5 2.5l-.94 2.06-2.06.94zm10 10l.94 2.06.94-2.06 2.06-.94-2.06-.94-.94-2.06-.94 2.06-2.06.94z\"/><path d=\"M17.41 7.96l-1.37-1.37c-.4-.4-.92-.59-1.43-.59-.52 0-1.04.2-1.43.59L10.3 9.45l-7.72 7.72c-.78.78-.78 2.05 0 2.83L4 21.41c.39.39.9.59 1.41.59.51 0 1.02-.2 1.41-.59l7.78-7.78 2.81-2.81c.8-.78.8-2.07 0-2.86zM5.41 20L4 18.59l7.72-7.72 1.47 1.35L5.41 20z\"/>\n",
              "  </svg>\n",
              "      </button>\n",
              "      \n",
              "  <style>\n",
              "    .colab-df-container {\n",
              "      display:flex;\n",
              "      flex-wrap:wrap;\n",
              "      gap: 12px;\n",
              "    }\n",
              "\n",
              "    .colab-df-convert {\n",
              "      background-color: #E8F0FE;\n",
              "      border: none;\n",
              "      border-radius: 50%;\n",
              "      cursor: pointer;\n",
              "      display: none;\n",
              "      fill: #1967D2;\n",
              "      height: 32px;\n",
              "      padding: 0 0 0 0;\n",
              "      width: 32px;\n",
              "    }\n",
              "\n",
              "    .colab-df-convert:hover {\n",
              "      background-color: #E2EBFA;\n",
              "      box-shadow: 0px 1px 2px rgba(60, 64, 67, 0.3), 0px 1px 3px 1px rgba(60, 64, 67, 0.15);\n",
              "      fill: #174EA6;\n",
              "    }\n",
              "\n",
              "    [theme=dark] .colab-df-convert {\n",
              "      background-color: #3B4455;\n",
              "      fill: #D2E3FC;\n",
              "    }\n",
              "\n",
              "    [theme=dark] .colab-df-convert:hover {\n",
              "      background-color: #434B5C;\n",
              "      box-shadow: 0px 1px 3px 1px rgba(0, 0, 0, 0.15);\n",
              "      filter: drop-shadow(0px 1px 2px rgba(0, 0, 0, 0.3));\n",
              "      fill: #FFFFFF;\n",
              "    }\n",
              "  </style>\n",
              "\n",
              "      <script>\n",
              "        const buttonEl =\n",
              "          document.querySelector('#df-8d0ae5a1-c626-45b8-bf45-d52a2ec4b3a4 button.colab-df-convert');\n",
              "        buttonEl.style.display =\n",
              "          google.colab.kernel.accessAllowed ? 'block' : 'none';\n",
              "\n",
              "        async function convertToInteractive(key) {\n",
              "          const element = document.querySelector('#df-8d0ae5a1-c626-45b8-bf45-d52a2ec4b3a4');\n",
              "          const dataTable =\n",
              "            await google.colab.kernel.invokeFunction('convertToInteractive',\n",
              "                                                     [key], {});\n",
              "          if (!dataTable) return;\n",
              "\n",
              "          const docLinkHtml = 'Like what you see? Visit the ' +\n",
              "            '<a target=\"_blank\" href=https://colab.research.google.com/notebooks/data_table.ipynb>data table notebook</a>'\n",
              "            + ' to learn more about interactive tables.';\n",
              "          element.innerHTML = '';\n",
              "          dataTable['output_type'] = 'display_data';\n",
              "          await google.colab.output.renderOutput(dataTable, element);\n",
              "          const docLink = document.createElement('div');\n",
              "          docLink.innerHTML = docLinkHtml;\n",
              "          element.appendChild(docLink);\n",
              "        }\n",
              "      </script>\n",
              "    </div>\n",
              "  </div>\n",
              "  "
            ]
          },
          "metadata": {},
          "execution_count": 23
        }
      ],
      "source": [
        "x1 = dataset[[\n",
        "    ' Destination Port', ' Flow Duration', ' Fwd Packet Length Min', 'Flow Bytes/s', ' Flow IAT Min' ,' Bwd Header Length', ' Bwd Packets/s', ' Min Packet Length', ' Subflow Bwd Packets', ' Init_Win_bytes_backward']]\n",
        "x1"
      ]
    },
    {
      "cell_type": "code",
      "execution_count": 34,
      "metadata": {
        "id": "iX71FuUgjUpW"
      },
      "outputs": [],
      "source": [
        "y1 = dataset[[\" Label\"]]"
      ]
    },
    {
      "cell_type": "code",
      "execution_count": 35,
      "metadata": {
        "id": "-pey3KSmk0T0"
      },
      "outputs": [],
      "source": [
        "X_train, X_test, Y_train, Y_test = train_test_split(x1, y1, test_size=0.2, random_state=0)"
      ]
    },
    {
      "cell_type": "code",
      "execution_count": 36,
      "metadata": {
        "id": "reR02RMNsgWu"
      },
      "outputs": [],
      "source": [
        "X_test = X_test.replace((np.inf, -np.inf, np.nan), 0).reset_index(drop=True)"
      ]
    },
    {
      "cell_type": "code",
      "execution_count": 37,
      "metadata": {
        "id": "AE6uGbo4Eose"
      },
      "outputs": [],
      "source": [
        "X_train = X_train.replace((np.inf, -np.inf, np.nan), 0).reset_index(drop=True)"
      ]
    },
    {
      "cell_type": "code",
      "execution_count": 38,
      "metadata": {
        "id": "r0lSHhjIk7bc",
        "colab": {
          "base_uri": "https://localhost:8080/"
        },
        "outputId": "43181fb8-0464-47b8-d3b6-784c4ad797b7"
      },
      "outputs": [
        {
          "output_type": "stream",
          "name": "stdout",
          "text": [
            "data Train set: (3025764, 10) (3025764, 1)\n",
            "data Test set: (756442, 10) (756442, 1)\n"
          ]
        }
      ],
      "source": [
        "print(\"data Train set:\", X_train.shape, Y_train.shape)\n",
        "print(\"data Test set:\", X_test.shape, Y_test.shape)"
      ]
    },
    {
      "cell_type": "code",
      "source": [
        "oversample = SMOTE(random_state=42)\n",
        "X_smote, y_smote = oversample.fit_resample(X_train, Y_train)"
      ],
      "metadata": {
        "id": "sVg-jGko4vc9"
      },
      "execution_count": 39,
      "outputs": []
    },
    {
      "cell_type": "code",
      "source": [
        "ros = RandomOverSampler()\n",
        "X_ros, y_ros = ros.fit_resample(X_train, Y_train)"
      ],
      "metadata": {
        "id": "Egk0MTcUB4BY"
      },
      "execution_count": 30,
      "outputs": []
    },
    {
      "cell_type": "code",
      "source": [
        "print(\"data Train set:\", X_ros.shape, y_ros.shape)\n"
      ],
      "metadata": {
        "colab": {
          "base_uri": "https://localhost:8080/"
        },
        "id": "f5tYpozqTBmd",
        "outputId": "095f236c-2ad7-4334-919b-31a93cc01a4d"
      },
      "execution_count": 31,
      "outputs": [
        {
          "output_type": "stream",
          "name": "stdout",
          "text": [
            "data Train set: (6046504, 10) (6046504, 1)\n"
          ]
        }
      ]
    },
    {
      "cell_type": "code",
      "execution_count": 32,
      "metadata": {
        "id": "tN2hUFrDrMp2"
      },
      "outputs": [],
      "source": [
        "from sklearn.preprocessing import StandardScaler\n",
        "from sklearn.decomposition import PCA"
      ]
    },
    {
      "cell_type": "code",
      "source": [
        "def plot_2d_space(X, y, label='Classes'):   \n",
        "    colors = ['#1F77B4', '#FF7F0E']\n",
        "    markers = ['o', 's']\n",
        "    for l, c, m in zip(np.unique(y), colors, markers):\n",
        "        plt.scatter(\n",
        "            X[y==l, 0],\n",
        "            X[y==l, 1],\n",
        "            c=c, label=l, marker=m\n",
        "        )\n",
        "    plt.title(label)\n",
        "    plt.legend(loc='upper right')\n",
        "    plt.show()"
      ],
      "metadata": {
        "id": "y6HQfaM4Fzqx"
      },
      "execution_count": null,
      "outputs": []
    },
    {
      "cell_type": "code",
      "source": [
        "label_dict = dict(y_ros.value_counts())\n",
        "sns.countplot(is_attack)"
      ],
      "metadata": {
        "colab": {
          "base_uri": "https://localhost:8080/",
          "height": 365
        },
        "id": "f9gwyOvtJOwt",
        "outputId": "59ffe9e0-e584-494b-b92a-4bf6d6269118"
      },
      "execution_count": null,
      "outputs": [
        {
          "output_type": "stream",
          "name": "stderr",
          "text": [
            "/usr/local/lib/python3.8/dist-packages/seaborn/_decorators.py:36: FutureWarning: Pass the following variable as a keyword arg: x. From version 0.12, the only valid positional argument will be `data`, and passing other arguments without an explicit keyword will result in an error or misinterpretation.\n",
            "  warnings.warn(\n"
          ]
        },
        {
          "output_type": "execute_result",
          "data": {
            "text/plain": [
              "<matplotlib.axes._subplots.AxesSubplot at 0x7fed2f8826d0>"
            ]
          },
          "metadata": {},
          "execution_count": 29
        },
        {
          "output_type": "display_data",
          "data": {
            "text/plain": [
              "<Figure size 432x288 with 1 Axes>"
            ],
            "image/png": "[encoded data removed]"
          },
          "metadata": {
            "needs_background": "light"
          }
        }
      ]
    },
    {
      "cell_type": "code",
      "source": [
        "y_ros"
      ],
      "metadata": {
        "colab": {
          "base_uri": "https://localhost:8080/",
          "height": 424
        },
        "id": "s6Mpmg_2LcLc",
        "outputId": "b7a55b96-88e0-4b06-9209-25ad9aa45dc8"
      },
      "execution_count": null,
      "outputs": [
        {
          "output_type": "execute_result",
          "data": {
            "text/plain": [
              "          Label\n",
              "0             1\n",
              "1             1\n",
              "2             1\n",
              "3             1\n",
              "4             1\n",
              "...         ...\n",
              "6046499       0\n",
              "6046500       0\n",
              "6046501       0\n",
              "6046502       0\n",
              "6046503       0\n",
              "\n",
              "[6046504 rows x 1 columns]"
            ],
            "text/html": [
              "\n",
              "  <div id=\"df-6055dbcf-a652-4d5c-9a09-35c2a9c8280f\">\n",
              "    <div class=\"colab-df-container\">\n",
              "      <div>\n",
              "<style scoped>\n",
              "    .dataframe tbody tr th:only-of-type {\n",
              "        vertical-align: middle;\n",
              "    }\n",
              "\n",
              "    .dataframe tbody tr th {\n",
              "        vertical-align: top;\n",
              "    }\n",
              "\n",
              "    .dataframe thead th {\n",
              "        text-align: right;\n",
              "    }\n",
              "</style>\n",
              "<table border=\"1\" class=\"dataframe\">\n",
              "  <thead>\n",
              "    <tr style=\"text-align: right;\">\n",
              "      <th></th>\n",
              "      <th>Label</th>\n",
              "    </tr>\n",
              "  </thead>\n",
              "  <tbody>\n",
              "    <tr>\n",
              "      <th>0</th>\n",
              "      <td>1</td>\n",
              "    </tr>\n",
              "    <tr>\n",
              "      <th>1</th>\n",
              "      <td>1</td>\n",
              "    </tr>\n",
              "    <tr>\n",
              "      <th>2</th>\n",
              "      <td>1</td>\n",
              "    </tr>\n",
              "    <tr>\n",
              "      <th>3</th>\n",
              "      <td>1</td>\n",
              "    </tr>\n",
              "    <tr>\n",
              "      <th>4</th>\n",
              "      <td>1</td>\n",
              "    </tr>\n",
              "    <tr>\n",
              "      <th>...</th>\n",
              "      <td>...</td>\n",
              "    </tr>\n",
              "    <tr>\n",
              "      <th>6046499</th>\n",
              "      <td>0</td>\n",
              "    </tr>\n",
              "    <tr>\n",
              "      <th>6046500</th>\n",
              "      <td>0</td>\n",
              "    </tr>\n",
              "    <tr>\n",
              "      <th>6046501</th>\n",
              "      <td>0</td>\n",
              "    </tr>\n",
              "    <tr>\n",
              "      <th>6046502</th>\n",
              "      <td>0</td>\n",
              "    </tr>\n",
              "    <tr>\n",
              "      <th>6046503</th>\n",
              "      <td>0</td>\n",
              "    </tr>\n",
              "  </tbody>\n",
              "</table>\n",
              "<p>6046504 rows × 1 columns</p>\n",
              "</div>\n",
              "      <button class=\"colab-df-convert\" onclick=\"convertToInteractive('df-6055dbcf-a652-4d5c-9a09-35c2a9c8280f')\"\n",
              "              title=\"Convert this dataframe to an interactive table.\"\n",
              "              style=\"display:none;\">\n",
              "        \n",
              "  <svg xmlns=\"http://www.w3.org/2000/svg\" height=\"24px\"viewBox=\"0 0 24 24\"\n",
              "       width=\"24px\">\n",
              "    <path d=\"M0 0h24v24H0V0z\" fill=\"none\"/>\n",
              "    <path d=\"M18.56 5.44l.94 2.06.94-2.06 2.06-.94-2.06-.94-.94-2.06-.94 2.06-2.06.94zm-11 1L8.5 8.5l.94-2.06 2.06-.94-2.06-.94L8.5 2.5l-.94 2.06-2.06.94zm10 10l.94 2.06.94-2.06 2.06-.94-2.06-.94-.94-2.06-.94 2.06-2.06.94z\"/><path d=\"M17.41 7.96l-1.37-1.37c-.4-.4-.92-.59-1.43-.59-.52 0-1.04.2-1.43.59L10.3 9.45l-7.72 7.72c-.78.78-.78 2.05 0 2.83L4 21.41c.39.39.9.59 1.41.59.51 0 1.02-.2 1.41-.59l7.78-7.78 2.81-2.81c.8-.78.8-2.07 0-2.86zM5.41 20L4 18.59l7.72-7.72 1.47 1.35L5.41 20z\"/>\n",
              "  </svg>\n",
              "      </button>\n",
              "      \n",
              "  <style>\n",
              "    .colab-df-container {\n",
              "      display:flex;\n",
              "      flex-wrap:wrap;\n",
              "      gap: 12px;\n",
              "    }\n",
              "\n",
              "    .colab-df-convert {\n",
              "      background-color: #E8F0FE;\n",
              "      border: none;\n",
              "      border-radius: 50%;\n",
              "      cursor: pointer;\n",
              "      display: none;\n",
              "      fill: #1967D2;\n",
              "      height: 32px;\n",
              "      padding: 0 0 0 0;\n",
              "      width: 32px;\n",
              "    }\n",
              "\n",
              "    .colab-df-convert:hover {\n",
              "      background-color: #E2EBFA;\n",
              "      box-shadow: 0px 1px 2px rgba(60, 64, 67, 0.3), 0px 1px 3px 1px rgba(60, 64, 67, 0.15);\n",
              "      fill: #174EA6;\n",
              "    }\n",
              "\n",
              "    [theme=dark] .colab-df-convert {\n",
              "      background-color: #3B4455;\n",
              "      fill: #D2E3FC;\n",
              "    }\n",
              "\n",
              "    [theme=dark] .colab-df-convert:hover {\n",
              "      background-color: #434B5C;\n",
              "      box-shadow: 0px 1px 3px 1px rgba(0, 0, 0, 0.15);\n",
              "      filter: drop-shadow(0px 1px 2px rgba(0, 0, 0, 0.3));\n",
              "      fill: #FFFFFF;\n",
              "    }\n",
              "  </style>\n",
              "\n",
              "      <script>\n",
              "        const buttonEl =\n",
              "          document.querySelector('#df-6055dbcf-a652-4d5c-9a09-35c2a9c8280f button.colab-df-convert');\n",
              "        buttonEl.style.display =\n",
              "          google.colab.kernel.accessAllowed ? 'block' : 'none';\n",
              "\n",
              "        async function convertToInteractive(key) {\n",
              "          const element = document.querySelector('#df-6055dbcf-a652-4d5c-9a09-35c2a9c8280f');\n",
              "          const dataTable =\n",
              "            await google.colab.kernel.invokeFunction('convertToInteractive',\n",
              "                                                     [key], {});\n",
              "          if (!dataTable) return;\n",
              "\n",
              "          const docLinkHtml = 'Like what you see? Visit the ' +\n",
              "            '<a target=\"_blank\" href=https://colab.research.google.com/notebooks/data_table.ipynb>data table notebook</a>'\n",
              "            + ' to learn more about interactive tables.';\n",
              "          element.innerHTML = '';\n",
              "          dataTable['output_type'] = 'display_data';\n",
              "          await google.colab.output.renderOutput(dataTable, element);\n",
              "          const docLink = document.createElement('div');\n",
              "          docLink.innerHTML = docLinkHtml;\n",
              "          element.appendChild(docLink);\n",
              "        }\n",
              "      </script>\n",
              "    </div>\n",
              "  </div>\n",
              "  "
            ]
          },
          "metadata": {},
          "execution_count": 31
        }
      ]
    },
    {
      "cell_type": "code",
      "execution_count": 40,
      "metadata": {
        "id": "K1L_C3rSrKu_"
      },
      "outputs": [],
      "source": [
        "sc = StandardScaler()\n",
        "  \n",
        "X_train = sc.fit_transform(X_train)\n",
        "X_test = sc.transform(X_test)"
      ]
    },
    {
      "cell_type": "code",
      "execution_count": 41,
      "metadata": {
        "id": "aN7VryKBrry5",
        "colab": {
          "base_uri": "https://localhost:8080/"
        },
        "outputId": "d0e1acae-6ead-4d3b-b040-dd8a796bd3ba"
      },
      "outputs": [
        {
          "output_type": "execute_result",
          "data": {
            "text/plain": [
              "array([[-1.68775964, -0.12092638,  0.96433518, ...,  0.96434098,\n",
              "        -0.00523314, -0.00732002],\n",
              "       [ 0.57674217, -0.12092638,  0.35977833, ...,  0.35980107,\n",
              "        -0.00523314, -0.00732002],\n",
              "       [-1.19057583,  0.02495625, -0.68657007, ..., -0.68651801,\n",
              "        -0.00523314, -0.00732002],\n",
              "       ...,\n",
              "       [-0.36536648, -0.12092638,  0.54579582, ...,  0.54581335,\n",
              "        -0.00523314, -0.00732002],\n",
              "       [ 0.48626715,  0.02206706, -0.68657007, ..., -0.68651801,\n",
              "        -0.00523314, -0.00732002],\n",
              "       [ 1.14456938, -0.08817643, -1.98869253, ..., -1.98860397,\n",
              "        -0.00523314, -0.00732002]])"
            ]
          },
          "metadata": {},
          "execution_count": 41
        }
      ],
      "source": [
        "X_train"
      ]
    },
    {
      "cell_type": "code",
      "execution_count": 42,
      "metadata": {
        "id": "n2_Qgu1ytJ8U"
      },
      "outputs": [],
      "source": [
        "pca = PCA(n_components=2)\n",
        "  \n",
        "X_train = pca.fit_transform(X_train)\n",
        "X_test = pca.transform(X_test)\n",
        "  \n",
        "explained_variance = pca.explained_variance_ratio_"
      ]
    },
    {
      "cell_type": "code",
      "source": [
        "# Import SVM classifier\n",
        "from sklearn.svm import SVC\n",
        "# Create SVC object and call fit function to train model\n",
        "clf = SVC()\n"
      ],
      "metadata": {
        "id": "vXh6HJxzNgsH"
      },
      "execution_count": 44,
      "outputs": []
    },
    {
      "cell_type": "code",
      "execution_count": 46,
      "metadata": {
        "id": "k2vt80Uzk8CB",
        "colab": {
          "base_uri": "https://localhost:8080/"
        },
        "outputId": "ac47b507-fa51-4622-e39e-92d48bd3973a"
      },
      "outputs": [
        {
          "output_type": "stream",
          "name": "stderr",
          "text": [
            "/usr/local/lib/python3.8/dist-packages/sklearn/utils/validation.py:993: DataConversionWarning: A column-vector y was passed when a 1d array was expected. Please change the shape of y to (n_samples, ), for example using ravel().\n",
            "  y = column_or_1d(y, warn=True)\n"
          ]
        }
      ],
      "source": [
        "# model for the binary classification\n",
        "clf.fit(X_train, Y_train)\n",
        "binary_predictions = clf.predict(X_test)\n"
      ]
    },
    {
      "cell_type": "code",
      "source": [
        "# calculate and display our base accuracty\n",
        "base_rf_score = accuracy_score(binary_predictions,Y_test)\n",
        "base_rf_score"
      ],
      "metadata": {
        "id": "I-TvvRjCLPCo",
        "colab": {
          "base_uri": "https://localhost:8080/"
        },
        "outputId": "1ee6994d-12a6-421f-b87f-a36e3de5fb88"
      },
      "execution_count": 48,
      "outputs": [
        {
          "output_type": "execute_result",
          "data": {
            "text/plain": [
              "0.9999510867984591"
            ]
          },
          "metadata": {},
          "execution_count": 48
        }
      ]
    },
    {
      "cell_type": "markdown",
      "source": [
        "DATASET KITA"
      ],
      "metadata": {
        "id": "qNKqxQvpmnhh"
      }
    },
    {
      "cell_type": "code",
      "execution_count": 50,
      "metadata": {
        "id": "mkeXZD8G5nbJ"
      },
      "outputs": [],
      "source": [
        "datakita_normal = pd.read_csv(\"drive/MyDrive/Normal_generate6.csv\")\n",
        "datakita_serang = pd.read_csv(\"drive/MyDrive/capture_h3_ICMP_Flow.csv\")"
      ]
    },
    {
      "cell_type": "code",
      "source": [
        "datakita_normal"
      ],
      "metadata": {
        "colab": {
          "base_uri": "https://localhost:8080/",
          "height": 579
        },
        "id": "BrEsEUqLP2bD",
        "outputId": "7dafcd90-8e1c-4250-aafa-153b27686d54"
      },
      "execution_count": null,
      "outputs": [
        {
          "output_type": "execute_result",
          "data": {
            "text/plain": [
              "                   Flow ID    Src IP  Src Port    Dst IP  Dst Port  Protocol  \\\n",
              "0  10.0.0.1-10.0.0.3-0-0-0  10.0.0.3         0  10.0.0.1         0         0   \n",
              "1    8.0.6.4-8.6.0.1-0-0-0   8.6.0.1         0   8.0.6.4         0         0   \n",
              "2  10.0.0.1-10.0.0.4-0-0-0  10.0.0.4         0  10.0.0.1         0         0   \n",
              "3  10.0.0.1-10.0.0.3-0-0-0  10.0.0.3         0  10.0.0.1         0         0   \n",
              "4  10.0.0.1-10.0.0.4-0-0-0  10.0.0.4         0  10.0.0.1         0         0   \n",
              "5    8.0.6.4-8.6.0.1-0-0-0   8.6.0.1         0   8.0.6.4         0         0   \n",
              "6  10.0.0.1-10.0.0.3-0-0-0  10.0.0.3         0  10.0.0.1         0         0   \n",
              "7  10.0.0.1-10.0.0.4-0-0-0  10.0.0.4         0  10.0.0.1         0         0   \n",
              "8    8.0.6.4-8.6.0.1-0-0-0   8.6.0.1         0   8.0.6.4         0         0   \n",
              "\n",
              "                Timestamp  Flow Duration  Tot Fwd Pkts  Tot Bwd Pkts  ...  \\\n",
              "0  22/12/2022 10:57:56 AM       57343775            56            58  ...   \n",
              "1  22/12/2022 10:58:18 AM       32767588             4             1  ...   \n",
              "2  22/12/2022 10:57:56 AM       57344044            56            58  ...   \n",
              "3  22/12/2022 10:53:54 AM      119808035           117           119  ...   \n",
              "4  22/12/2022 10:53:54 AM      119808089           117           119  ...   \n",
              "5  22/12/2022 10:54:08 AM      114431711            12             1  ...   \n",
              "6  22/12/2022 10:55:55 AM      119807887           117           119  ...   \n",
              "7  22/12/2022 10:55:55 AM      119808050           117           119  ...   \n",
              "8  22/12/2022 10:56:11 AM      114431319            13             1  ...   \n",
              "\n",
              "   Fwd Seg Size Min   Active Mean    Active Std  Active Max  Active Min  \\\n",
              "0                 0  0.000000e+00  0.000000e+00         0.0         0.0   \n",
              "1                 0  3.839156e+06  0.000000e+00   3839156.0   3839156.0   \n",
              "2                 0  0.000000e+00  0.000000e+00         0.0         0.0   \n",
              "3                 0  0.000000e+00  0.000000e+00         0.0         0.0   \n",
              "4                 0  0.000000e+00  0.000000e+00         0.0         0.0   \n",
              "5                 0  4.608079e+06  1.330624e+06   6144551.0   3839639.0   \n",
              "6                 0  0.000000e+00  0.000000e+00         0.0         0.0   \n",
              "7                 0  0.000000e+00  0.000000e+00         0.0         0.0   \n",
              "8                 0  5.972399e+06  1.469598e+05   6142093.0   5887303.0   \n",
              "\n",
              "      Idle Mean      Idle Std    Idle Max   Idle Min     Label  \n",
              "0  0.000000e+00  0.000000e+00         0.0        0.0  No Label  \n",
              "1  9.642811e+06  4.473736e+06  14592446.0  5887310.0  No Label  \n",
              "2  0.000000e+00  0.000000e+00         0.0        0.0  No Label  \n",
              "3  0.000000e+00  0.000000e+00         0.0        0.0  No Label  \n",
              "4  0.000000e+00  0.000000e+00         0.0        0.0  No Label  \n",
              "5  1.257593e+07  5.827158e+06  22271793.0  5888345.0  No Label  \n",
              "6  0.000000e+00  0.000000e+00         0.0        0.0  No Label  \n",
              "7  0.000000e+00  0.000000e+00         0.0        0.0  No Label  \n",
              "8  1.544568e+07  6.397698e+06  24832371.0  7938096.0  No Label  \n",
              "\n",
              "[9 rows x 84 columns]"
            ],
            "text/html": [
              "\n",
              "  <div id=\"df-d7f32dc6-12e1-4d0a-abb4-28af71304703\">\n",
              "    <div class=\"colab-df-container\">\n",
              "      <div>\n",
              "<style scoped>\n",
              "    .dataframe tbody tr th:only-of-type {\n",
              "        vertical-align: middle;\n",
              "    }\n",
              "\n",
              "    .dataframe tbody tr th {\n",
              "        vertical-align: top;\n",
              "    }\n",
              "\n",
              "    .dataframe thead th {\n",
              "        text-align: right;\n",
              "    }\n",
              "</style>\n",
              "<table border=\"1\" class=\"dataframe\">\n",
              "  <thead>\n",
              "    <tr style=\"text-align: right;\">\n",
              "      <th></th>\n",
              "      <th>Flow ID</th>\n",
              "      <th>Src IP</th>\n",
              "      <th>Src Port</th>\n",
              "      <th>Dst IP</th>\n",
              "      <th>Dst Port</th>\n",
              "      <th>Protocol</th>\n",
              "      <th>Timestamp</th>\n",
              "      <th>Flow Duration</th>\n",
              "      <th>Tot Fwd Pkts</th>\n",
              "      <th>Tot Bwd Pkts</th>\n",
              "      <th>...</th>\n",
              "      <th>Fwd Seg Size Min</th>\n",
              "      <th>Active Mean</th>\n",
              "      <th>Active Std</th>\n",
              "      <th>Active Max</th>\n",
              "      <th>Active Min</th>\n",
              "      <th>Idle Mean</th>\n",
              "      <th>Idle Std</th>\n",
              "      <th>Idle Max</th>\n",
              "      <th>Idle Min</th>\n",
              "      <th>Label</th>\n",
              "    </tr>\n",
              "  </thead>\n",
              "  <tbody>\n",
              "    <tr>\n",
              "      <th>0</th>\n",
              "      <td>10.0.0.1-10.0.0.3-0-0-0</td>\n",
              "      <td>10.0.0.3</td>\n",
              "      <td>0</td>\n",
              "      <td>10.0.0.1</td>\n",
              "      <td>0</td>\n",
              "      <td>0</td>\n",
              "      <td>22/12/2022 10:57:56 AM</td>\n",
              "      <td>57343775</td>\n",
              "      <td>56</td>\n",
              "      <td>58</td>\n",
              "      <td>...</td>\n",
              "      <td>0</td>\n",
              "      <td>0.000000e+00</td>\n",
              "      <td>0.000000e+00</td>\n",
              "      <td>0.0</td>\n",
              "      <td>0.0</td>\n",
              "      <td>0.000000e+00</td>\n",
              "      <td>0.000000e+00</td>\n",
              "      <td>0.0</td>\n",
              "      <td>0.0</td>\n",
              "      <td>No Label</td>\n",
              "    </tr>\n",
              "    <tr>\n",
              "      <th>1</th>\n",
              "      <td>8.0.6.4-8.6.0.1-0-0-0</td>\n",
              "      <td>8.6.0.1</td>\n",
              "      <td>0</td>\n",
              "      <td>8.0.6.4</td>\n",
              "      <td>0</td>\n",
              "      <td>0</td>\n",
              "      <td>22/12/2022 10:58:18 AM</td>\n",
              "      <td>32767588</td>\n",
              "      <td>4</td>\n",
              "      <td>1</td>\n",
              "      <td>...</td>\n",
              "      <td>0</td>\n",
              "      <td>3.839156e+06</td>\n",
              "      <td>0.000000e+00</td>\n",
              "      <td>3839156.0</td>\n",
              "      <td>3839156.0</td>\n",
              "      <td>9.642811e+06</td>\n",
              "      <td>4.473736e+06</td>\n",
              "      <td>14592446.0</td>\n",
              "      <td>5887310.0</td>\n",
              "      <td>No Label</td>\n",
              "    </tr>\n",
              "    <tr>\n",
              "      <th>2</th>\n",
              "      <td>10.0.0.1-10.0.0.4-0-0-0</td>\n",
              "      <td>10.0.0.4</td>\n",
              "      <td>0</td>\n",
              "      <td>10.0.0.1</td>\n",
              "      <td>0</td>\n",
              "      <td>0</td>\n",
              "      <td>22/12/2022 10:57:56 AM</td>\n",
              "      <td>57344044</td>\n",
              "      <td>56</td>\n",
              "      <td>58</td>\n",
              "      <td>...</td>\n",
              "      <td>0</td>\n",
              "      <td>0.000000e+00</td>\n",
              "      <td>0.000000e+00</td>\n",
              "      <td>0.0</td>\n",
              "      <td>0.0</td>\n",
              "      <td>0.000000e+00</td>\n",
              "      <td>0.000000e+00</td>\n",
              "      <td>0.0</td>\n",
              "      <td>0.0</td>\n",
              "      <td>No Label</td>\n",
              "    </tr>\n",
              "    <tr>\n",
              "      <th>3</th>\n",
              "      <td>10.0.0.1-10.0.0.3-0-0-0</td>\n",
              "      <td>10.0.0.3</td>\n",
              "      <td>0</td>\n",
              "      <td>10.0.0.1</td>\n",
              "      <td>0</td>\n",
              "      <td>0</td>\n",
              "      <td>22/12/2022 10:53:54 AM</td>\n",
              "      <td>119808035</td>\n",
              "      <td>117</td>\n",
              "      <td>119</td>\n",
              "      <td>...</td>\n",
              "      <td>0</td>\n",
              "      <td>0.000000e+00</td>\n",
              "      <td>0.000000e+00</td>\n",
              "      <td>0.0</td>\n",
              "      <td>0.0</td>\n",
              "      <td>0.000000e+00</td>\n",
              "      <td>0.000000e+00</td>\n",
              "      <td>0.0</td>\n",
              "      <td>0.0</td>\n",
              "      <td>No Label</td>\n",
              "    </tr>\n",
              "    <tr>\n",
              "      <th>4</th>\n",
              "      <td>10.0.0.1-10.0.0.4-0-0-0</td>\n",
              "      <td>10.0.0.4</td>\n",
              "      <td>0</td>\n",
              "      <td>10.0.0.1</td>\n",
              "      <td>0</td>\n",
              "      <td>0</td>\n",
              "      <td>22/12/2022 10:53:54 AM</td>\n",
              "      <td>119808089</td>\n",
              "      <td>117</td>\n",
              "      <td>119</td>\n",
              "      <td>...</td>\n",
              "      <td>0</td>\n",
              "      <td>0.000000e+00</td>\n",
              "      <td>0.000000e+00</td>\n",
              "      <td>0.0</td>\n",
              "      <td>0.0</td>\n",
              "      <td>0.000000e+00</td>\n",
              "      <td>0.000000e+00</td>\n",
              "      <td>0.0</td>\n",
              "      <td>0.0</td>\n",
              "      <td>No Label</td>\n",
              "    </tr>\n",
              "    <tr>\n",
              "      <th>5</th>\n",
              "      <td>8.0.6.4-8.6.0.1-0-0-0</td>\n",
              "      <td>8.6.0.1</td>\n",
              "      <td>0</td>\n",
              "      <td>8.0.6.4</td>\n",
              "      <td>0</td>\n",
              "      <td>0</td>\n",
              "      <td>22/12/2022 10:54:08 AM</td>\n",
              "      <td>114431711</td>\n",
              "      <td>12</td>\n",
              "      <td>1</td>\n",
              "      <td>...</td>\n",
              "      <td>0</td>\n",
              "      <td>4.608079e+06</td>\n",
              "      <td>1.330624e+06</td>\n",
              "      <td>6144551.0</td>\n",
              "      <td>3839639.0</td>\n",
              "      <td>1.257593e+07</td>\n",
              "      <td>5.827158e+06</td>\n",
              "      <td>22271793.0</td>\n",
              "      <td>5888345.0</td>\n",
              "      <td>No Label</td>\n",
              "    </tr>\n",
              "    <tr>\n",
              "      <th>6</th>\n",
              "      <td>10.0.0.1-10.0.0.3-0-0-0</td>\n",
              "      <td>10.0.0.3</td>\n",
              "      <td>0</td>\n",
              "      <td>10.0.0.1</td>\n",
              "      <td>0</td>\n",
              "      <td>0</td>\n",
              "      <td>22/12/2022 10:55:55 AM</td>\n",
              "      <td>119807887</td>\n",
              "      <td>117</td>\n",
              "      <td>119</td>\n",
              "      <td>...</td>\n",
              "      <td>0</td>\n",
              "      <td>0.000000e+00</td>\n",
              "      <td>0.000000e+00</td>\n",
              "      <td>0.0</td>\n",
              "      <td>0.0</td>\n",
              "      <td>0.000000e+00</td>\n",
              "      <td>0.000000e+00</td>\n",
              "      <td>0.0</td>\n",
              "      <td>0.0</td>\n",
              "      <td>No Label</td>\n",
              "    </tr>\n",
              "    <tr>\n",
              "      <th>7</th>\n",
              "      <td>10.0.0.1-10.0.0.4-0-0-0</td>\n",
              "      <td>10.0.0.4</td>\n",
              "      <td>0</td>\n",
              "      <td>10.0.0.1</td>\n",
              "      <td>0</td>\n",
              "      <td>0</td>\n",
              "      <td>22/12/2022 10:55:55 AM</td>\n",
              "      <td>119808050</td>\n",
              "      <td>117</td>\n",
              "      <td>119</td>\n",
              "      <td>...</td>\n",
              "      <td>0</td>\n",
              "      <td>0.000000e+00</td>\n",
              "      <td>0.000000e+00</td>\n",
              "      <td>0.0</td>\n",
              "      <td>0.0</td>\n",
              "      <td>0.000000e+00</td>\n",
              "      <td>0.000000e+00</td>\n",
              "      <td>0.0</td>\n",
              "      <td>0.0</td>\n",
              "      <td>No Label</td>\n",
              "    </tr>\n",
              "    <tr>\n",
              "      <th>8</th>\n",
              "      <td>8.0.6.4-8.6.0.1-0-0-0</td>\n",
              "      <td>8.6.0.1</td>\n",
              "      <td>0</td>\n",
              "      <td>8.0.6.4</td>\n",
              "      <td>0</td>\n",
              "      <td>0</td>\n",
              "      <td>22/12/2022 10:56:11 AM</td>\n",
              "      <td>114431319</td>\n",
              "      <td>13</td>\n",
              "      <td>1</td>\n",
              "      <td>...</td>\n",
              "      <td>0</td>\n",
              "      <td>5.972399e+06</td>\n",
              "      <td>1.469598e+05</td>\n",
              "      <td>6142093.0</td>\n",
              "      <td>5887303.0</td>\n",
              "      <td>1.544568e+07</td>\n",
              "      <td>6.397698e+06</td>\n",
              "      <td>24832371.0</td>\n",
              "      <td>7938096.0</td>\n",
              "      <td>No Label</td>\n",
              "    </tr>\n",
              "  </tbody>\n",
              "</table>\n",
              "<p>9 rows × 84 columns</p>\n",
              "</div>\n",
              "      <button class=\"colab-df-convert\" onclick=\"convertToInteractive('df-d7f32dc6-12e1-4d0a-abb4-28af71304703')\"\n",
              "              title=\"Convert this dataframe to an interactive table.\"\n",
              "              style=\"display:none;\">\n",
              "        \n",
              "  <svg xmlns=\"http://www.w3.org/2000/svg\" height=\"24px\"viewBox=\"0 0 24 24\"\n",
              "       width=\"24px\">\n",
              "    <path d=\"M0 0h24v24H0V0z\" fill=\"none\"/>\n",
              "    <path d=\"M18.56 5.44l.94 2.06.94-2.06 2.06-.94-2.06-.94-.94-2.06-.94 2.06-2.06.94zm-11 1L8.5 8.5l.94-2.06 2.06-.94-2.06-.94L8.5 2.5l-.94 2.06-2.06.94zm10 10l.94 2.06.94-2.06 2.06-.94-2.06-.94-.94-2.06-.94 2.06-2.06.94z\"/><path d=\"M17.41 7.96l-1.37-1.37c-.4-.4-.92-.59-1.43-.59-.52 0-1.04.2-1.43.59L10.3 9.45l-7.72 7.72c-.78.78-.78 2.05 0 2.83L4 21.41c.39.39.9.59 1.41.59.51 0 1.02-.2 1.41-.59l7.78-7.78 2.81-2.81c.8-.78.8-2.07 0-2.86zM5.41 20L4 18.59l7.72-7.72 1.47 1.35L5.41 20z\"/>\n",
              "  </svg>\n",
              "      </button>\n",
              "      \n",
              "  <style>\n",
              "    .colab-df-container {\n",
              "      display:flex;\n",
              "      flex-wrap:wrap;\n",
              "      gap: 12px;\n",
              "    }\n",
              "\n",
              "    .colab-df-convert {\n",
              "      background-color: #E8F0FE;\n",
              "      border: none;\n",
              "      border-radius: 50%;\n",
              "      cursor: pointer;\n",
              "      display: none;\n",
              "      fill: #1967D2;\n",
              "      height: 32px;\n",
              "      padding: 0 0 0 0;\n",
              "      width: 32px;\n",
              "    }\n",
              "\n",
              "    .colab-df-convert:hover {\n",
              "      background-color: #E2EBFA;\n",
              "      box-shadow: 0px 1px 2px rgba(60, 64, 67, 0.3), 0px 1px 3px 1px rgba(60, 64, 67, 0.15);\n",
              "      fill: #174EA6;\n",
              "    }\n",
              "\n",
              "    [theme=dark] .colab-df-convert {\n",
              "      background-color: #3B4455;\n",
              "      fill: #D2E3FC;\n",
              "    }\n",
              "\n",
              "    [theme=dark] .colab-df-convert:hover {\n",
              "      background-color: #434B5C;\n",
              "      box-shadow: 0px 1px 3px 1px rgba(0, 0, 0, 0.15);\n",
              "      filter: drop-shadow(0px 1px 2px rgba(0, 0, 0, 0.3));\n",
              "      fill: #FFFFFF;\n",
              "    }\n",
              "  </style>\n",
              "\n",
              "      <script>\n",
              "        const buttonEl =\n",
              "          document.querySelector('#df-d7f32dc6-12e1-4d0a-abb4-28af71304703 button.colab-df-convert');\n",
              "        buttonEl.style.display =\n",
              "          google.colab.kernel.accessAllowed ? 'block' : 'none';\n",
              "\n",
              "        async function convertToInteractive(key) {\n",
              "          const element = document.querySelector('#df-d7f32dc6-12e1-4d0a-abb4-28af71304703');\n",
              "          const dataTable =\n",
              "            await google.colab.kernel.invokeFunction('convertToInteractive',\n",
              "                                                     [key], {});\n",
              "          if (!dataTable) return;\n",
              "\n",
              "          const docLinkHtml = 'Like what you see? Visit the ' +\n",
              "            '<a target=\"_blank\" href=https://colab.research.google.com/notebooks/data_table.ipynb>data table notebook</a>'\n",
              "            + ' to learn more about interactive tables.';\n",
              "          element.innerHTML = '';\n",
              "          dataTable['output_type'] = 'display_data';\n",
              "          await google.colab.output.renderOutput(dataTable, element);\n",
              "          const docLink = document.createElement('div');\n",
              "          docLink.innerHTML = docLinkHtml;\n",
              "          element.appendChild(docLink);\n",
              "        }\n",
              "      </script>\n",
              "    </div>\n",
              "  </div>\n",
              "  "
            ]
          },
          "metadata": {},
          "execution_count": 42
        }
      ]
    },
    {
      "cell_type": "code",
      "source": [
        "datakita_normal[\"Label\"] = datakita_normal[\"Label\"].replace(['No Label'], 0)\n",
        "datakita_serang[\"Label\"] = datakita_serang[\"Label\"].replace(['No Label'], 1)"
      ],
      "metadata": {
        "id": "6GYjXCSnQfw7"
      },
      "execution_count": 51,
      "outputs": []
    },
    {
      "cell_type": "code",
      "source": [
        "datakita = pd.concat([datakita_normal, datakita_serang]).drop_duplicates().reset_index(drop=True)"
      ],
      "metadata": {
        "id": "yC6-LA6_QWHy"
      },
      "execution_count": 52,
      "outputs": []
    },
    {
      "cell_type": "code",
      "source": [
        "datakita['Label'].value_counts()"
      ],
      "metadata": {
        "id": "uLB46PysRaSk",
        "colab": {
          "base_uri": "https://localhost:8080/"
        },
        "outputId": "df72aec4-8155-4245-8723-cb86736ff083"
      },
      "execution_count": 53,
      "outputs": [
        {
          "output_type": "execute_result",
          "data": {
            "text/plain": [
              "0    23459\n",
              "1        2\n",
              "Name: Label, dtype: int64"
            ]
          },
          "metadata": {},
          "execution_count": 53
        }
      ]
    },
    {
      "cell_type": "code",
      "source": [
        "datakita.columns"
      ],
      "metadata": {
        "id": "TRchyuKFUUXh",
        "colab": {
          "base_uri": "https://localhost:8080/"
        },
        "outputId": "468d6aaf-9819-4621-bb52-3425954229b9"
      },
      "execution_count": null,
      "outputs": [
        {
          "output_type": "execute_result",
          "data": {
            "text/plain": [
              "Index(['Flow ID', 'Src IP', 'Src Port', 'Dst IP', 'Dst Port', 'Protocol',\n",
              "       'Timestamp', 'Flow Duration', 'Tot Fwd Pkts', 'Tot Bwd Pkts',\n",
              "       'TotLen Fwd Pkts', 'TotLen Bwd Pkts', 'Fwd Pkt Len Max',\n",
              "       'Fwd Pkt Len Min', 'Fwd Pkt Len Mean', 'Fwd Pkt Len Std',\n",
              "       'Bwd Pkt Len Max', 'Bwd Pkt Len Min', 'Bwd Pkt Len Mean',\n",
              "       'Bwd Pkt Len Std', 'Flow Byts/s', 'Flow Pkts/s', 'Flow IAT Mean',\n",
              "       'Flow IAT Std', 'Flow IAT Max', 'Flow IAT Min', 'Fwd IAT Tot',\n",
              "       'Fwd IAT Mean', 'Fwd IAT Std', 'Fwd IAT Max', 'Fwd IAT Min',\n",
              "       'Bwd IAT Tot', 'Bwd IAT Mean', 'Bwd IAT Std', 'Bwd IAT Max',\n",
              "       'Bwd IAT Min', 'Fwd PSH Flags', 'Bwd PSH Flags', 'Fwd URG Flags',\n",
              "       'Bwd URG Flags', 'Fwd Header Len', 'Bwd Header Len', 'Fwd Pkts/s',\n",
              "       'Bwd Pkts/s', 'Pkt Len Min', 'Pkt Len Max', 'Pkt Len Mean',\n",
              "       'Pkt Len Std', 'Pkt Len Var', 'FIN Flag Cnt', 'SYN Flag Cnt',\n",
              "       'RST Flag Cnt', 'PSH Flag Cnt', 'ACK Flag Cnt', 'URG Flag Cnt',\n",
              "       'CWE Flag Count', 'ECE Flag Cnt', 'Down/Up Ratio', 'Pkt Size Avg',\n",
              "       'Fwd Seg Size Avg', 'Bwd Seg Size Avg', 'Fwd Byts/b Avg',\n",
              "       'Fwd Pkts/b Avg', 'Fwd Blk Rate Avg', 'Bwd Byts/b Avg',\n",
              "       'Bwd Pkts/b Avg', 'Bwd Blk Rate Avg', 'Subflow Fwd Pkts',\n",
              "       'Subflow Fwd Byts', 'Subflow Bwd Pkts', 'Subflow Bwd Byts',\n",
              "       'Init Fwd Win Byts', 'Init Bwd Win Byts', 'Fwd Act Data Pkts',\n",
              "       'Fwd Seg Size Min', 'Active Mean', 'Active Std', 'Active Max',\n",
              "       'Active Min', 'Idle Mean', 'Idle Std', 'Idle Max', 'Idle Min', 'Label'],\n",
              "      dtype='object')"
            ]
          },
          "metadata": {},
          "execution_count": 97
        }
      ]
    },
    {
      "cell_type": "code",
      "source": [
        "datakita"
      ],
      "metadata": {
        "colab": {
          "base_uri": "https://localhost:8080/",
          "height": 887
        },
        "id": "Po-SWi1XP9o3",
        "outputId": "26e0bbfd-e404-470e-f3ba-ede87b824c81"
      },
      "execution_count": 54,
      "outputs": [
        {
          "output_type": "execute_result",
          "data": {
            "text/plain": [
              "                                         Flow ID          Src IP  Src Port  \\\n",
              "0      172.27.224.250-172.27.224.251-502-58944-6  172.27.224.251     58944   \n",
              "1      172.27.224.250-172.27.224.251-502-58944-6  172.27.224.250       502   \n",
              "2      172.27.224.250-172.27.224.251-502-58945-6  172.27.224.251     58945   \n",
              "3      172.27.224.250-172.27.224.251-502-58945-6  172.27.224.250       502   \n",
              "4      172.27.224.250-172.27.224.251-502-58946-6  172.27.224.251     58946   \n",
              "...                                          ...             ...       ...   \n",
              "23456  172.27.224.250-172.27.224.251-502-61105-6  172.27.224.251     61105   \n",
              "23457  172.27.224.250-172.27.224.251-502-64892-6  172.27.224.251     64892   \n",
              "23458  172.27.224.250-172.27.224.251-502-49277-6  172.27.224.251     49277   \n",
              "23459             10.0.0.1-10.0.0.2-55884-443-17        10.0.0.1     55884   \n",
              "23460             10.0.0.1-10.0.0.2-55884-443-17        10.0.0.1     55884   \n",
              "\n",
              "               Dst IP  Dst Port  Protocol               Timestamp  \\\n",
              "0      172.27.224.250       502         6  09/09/2018 01:14:05 AM   \n",
              "1      172.27.224.251     58944         6  09/09/2018 01:14:06 AM   \n",
              "2      172.27.224.250       502         6  09/09/2018 01:14:07 AM   \n",
              "3      172.27.224.251     58945         6  09/09/2018 01:14:09 AM   \n",
              "4      172.27.224.250       502         6  09/09/2018 01:14:10 AM   \n",
              "...               ...       ...       ...                     ...   \n",
              "23456  172.27.224.250       502         6  09/09/2018 02:58:28 AM   \n",
              "23457  172.27.224.250       502         6  09/09/2018 06:01:19 AM   \n",
              "23458  172.27.224.250       502         6  09/09/2018 06:33:41 AM   \n",
              "23459        10.0.0.2       443        17  23/09/2020 04:59:17 AM   \n",
              "23460        10.0.0.2       443        17  23/09/2020 05:01:21 AM   \n",
              "\n",
              "       Flow Duration  Tot Fwd Pkts  Tot Bwd Pkts  ...  Fwd Seg Size Min  \\\n",
              "0            1215176             1             1  ...                 0   \n",
              "1                855             1             1  ...                 0   \n",
              "2            1449888            15             5  ...                 0   \n",
              "3                849             1             1  ...                 0   \n",
              "4            1450321            15             5  ...                 0   \n",
              "...              ...           ...           ...  ...               ...   \n",
              "23456           8749             0             3  ...                 0   \n",
              "23457           9089             0             3  ...                 0   \n",
              "23458           9134             0             3  ...                 0   \n",
              "23459      119814131         10340             1  ...                 0   \n",
              "23460       80140136          8216             1  ...                 0   \n",
              "\n",
              "        Active Mean    Active Std   Active Max   Active Min  Idle Mean  \\\n",
              "0      0.000000e+00  0.000000e+00          0.0          0.0        0.0   \n",
              "1      0.000000e+00  0.000000e+00          0.0          0.0        0.0   \n",
              "2      0.000000e+00  0.000000e+00          0.0          0.0        0.0   \n",
              "3      0.000000e+00  0.000000e+00          0.0          0.0        0.0   \n",
              "4      0.000000e+00  0.000000e+00          0.0          0.0        0.0   \n",
              "...             ...           ...          ...          ...        ...   \n",
              "23456  0.000000e+00  0.000000e+00          0.0          0.0        0.0   \n",
              "23457  0.000000e+00  0.000000e+00          0.0          0.0        0.0   \n",
              "23458  0.000000e+00  0.000000e+00          0.0          0.0        0.0   \n",
              "23459  1.002989e+08  0.000000e+00  100298930.0  100298930.0  6766644.0   \n",
              "23460  5.481579e+06  3.966578e+06    9453787.0     318438.0  6557856.0   \n",
              "\n",
              "           Idle Std   Idle Max   Idle Min  Label  \n",
              "0      0.000000e+00        0.0        0.0      0  \n",
              "1      0.000000e+00        0.0        0.0      0  \n",
              "2      0.000000e+00        0.0        0.0      0  \n",
              "3      0.000000e+00        0.0        0.0      0  \n",
              "4      0.000000e+00        0.0        0.0      0  \n",
              "...             ...        ...        ...    ...  \n",
              "23456  0.000000e+00        0.0        0.0      0  \n",
              "23457  0.000000e+00        0.0        0.0      0  \n",
              "23458  0.000000e+00        0.0        0.0      0  \n",
              "23459  0.000000e+00  6766644.0  6766644.0      1  \n",
              "23460  2.196578e+06  9839598.0  5195059.0      1  \n",
              "\n",
              "[23461 rows x 84 columns]"
            ],
            "text/html": [
              "\n",
              "  <div id=\"df-26311bea-14c7-4563-a3ed-5f323fead402\">\n",
              "    <div class=\"colab-df-container\">\n",
              "      <div>\n",
              "<style scoped>\n",
              "    .dataframe tbody tr th:only-of-type {\n",
              "        vertical-align: middle;\n",
              "    }\n",
              "\n",
              "    .dataframe tbody tr th {\n",
              "        vertical-align: top;\n",
              "    }\n",
              "\n",
              "    .dataframe thead th {\n",
              "        text-align: right;\n",
              "    }\n",
              "</style>\n",
              "<table border=\"1\" class=\"dataframe\">\n",
              "  <thead>\n",
              "    <tr style=\"text-align: right;\">\n",
              "      <th></th>\n",
              "      <th>Flow ID</th>\n",
              "      <th>Src IP</th>\n",
              "      <th>Src Port</th>\n",
              "      <th>Dst IP</th>\n",
              "      <th>Dst Port</th>\n",
              "      <th>Protocol</th>\n",
              "      <th>Timestamp</th>\n",
              "      <th>Flow Duration</th>\n",
              "      <th>Tot Fwd Pkts</th>\n",
              "      <th>Tot Bwd Pkts</th>\n",
              "      <th>...</th>\n",
              "      <th>Fwd Seg Size Min</th>\n",
              "      <th>Active Mean</th>\n",
              "      <th>Active Std</th>\n",
              "      <th>Active Max</th>\n",
              "      <th>Active Min</th>\n",
              "      <th>Idle Mean</th>\n",
              "      <th>Idle Std</th>\n",
              "      <th>Idle Max</th>\n",
              "      <th>Idle Min</th>\n",
              "      <th>Label</th>\n",
              "    </tr>\n",
              "  </thead>\n",
              "  <tbody>\n",
              "    <tr>\n",
              "      <th>0</th>\n",
              "      <td>172.27.224.250-172.27.224.251-502-58944-6</td>\n",
              "      <td>172.27.224.251</td>\n",
              "      <td>58944</td>\n",
              "      <td>172.27.224.250</td>\n",
              "      <td>502</td>\n",
              "      <td>6</td>\n",
              "      <td>09/09/2018 01:14:05 AM</td>\n",
              "      <td>1215176</td>\n",
              "      <td>1</td>\n",
              "      <td>1</td>\n",
              "      <td>...</td>\n",
              "      <td>0</td>\n",
              "      <td>0.000000e+00</td>\n",
              "      <td>0.000000e+00</td>\n",
              "      <td>0.0</td>\n",
              "      <td>0.0</td>\n",
              "      <td>0.0</td>\n",
              "      <td>0.000000e+00</td>\n",
              "      <td>0.0</td>\n",
              "      <td>0.0</td>\n",
              "      <td>0</td>\n",
              "    </tr>\n",
              "    <tr>\n",
              "      <th>1</th>\n",
              "      <td>172.27.224.250-172.27.224.251-502-58944-6</td>\n",
              "      <td>172.27.224.250</td>\n",
              "      <td>502</td>\n",
              "      <td>172.27.224.251</td>\n",
              "      <td>58944</td>\n",
              "      <td>6</td>\n",
              "      <td>09/09/2018 01:14:06 AM</td>\n",
              "      <td>855</td>\n",
              "      <td>1</td>\n",
              "      <td>1</td>\n",
              "      <td>...</td>\n",
              "      <td>0</td>\n",
              "      <td>0.000000e+00</td>\n",
              "      <td>0.000000e+00</td>\n",
              "      <td>0.0</td>\n",
              "      <td>0.0</td>\n",
              "      <td>0.0</td>\n",
              "      <td>0.000000e+00</td>\n",
              "      <td>0.0</td>\n",
              "      <td>0.0</td>\n",
              "      <td>0</td>\n",
              "    </tr>\n",
              "    <tr>\n",
              "      <th>2</th>\n",
              "      <td>172.27.224.250-172.27.224.251-502-58945-6</td>\n",
              "      <td>172.27.224.251</td>\n",
              "      <td>58945</td>\n",
              "      <td>172.27.224.250</td>\n",
              "      <td>502</td>\n",
              "      <td>6</td>\n",
              "      <td>09/09/2018 01:14:07 AM</td>\n",
              "      <td>1449888</td>\n",
              "      <td>15</td>\n",
              "      <td>5</td>\n",
              "      <td>...</td>\n",
              "      <td>0</td>\n",
              "      <td>0.000000e+00</td>\n",
              "      <td>0.000000e+00</td>\n",
              "      <td>0.0</td>\n",
              "      <td>0.0</td>\n",
              "      <td>0.0</td>\n",
              "      <td>0.000000e+00</td>\n",
              "      <td>0.0</td>\n",
              "      <td>0.0</td>\n",
              "      <td>0</td>\n",
              "    </tr>\n",
              "    <tr>\n",
              "      <th>3</th>\n",
              "      <td>172.27.224.250-172.27.224.251-502-58945-6</td>\n",
              "      <td>172.27.224.250</td>\n",
              "      <td>502</td>\n",
              "      <td>172.27.224.251</td>\n",
              "      <td>58945</td>\n",
              "      <td>6</td>\n",
              "      <td>09/09/2018 01:14:09 AM</td>\n",
              "      <td>849</td>\n",
              "      <td>1</td>\n",
              "      <td>1</td>\n",
              "      <td>...</td>\n",
              "      <td>0</td>\n",
              "      <td>0.000000e+00</td>\n",
              "      <td>0.000000e+00</td>\n",
              "      <td>0.0</td>\n",
              "      <td>0.0</td>\n",
              "      <td>0.0</td>\n",
              "      <td>0.000000e+00</td>\n",
              "      <td>0.0</td>\n",
              "      <td>0.0</td>\n",
              "      <td>0</td>\n",
              "    </tr>\n",
              "    <tr>\n",
              "      <th>4</th>\n",
              "      <td>172.27.224.250-172.27.224.251-502-58946-6</td>\n",
              "      <td>172.27.224.251</td>\n",
              "      <td>58946</td>\n",
              "      <td>172.27.224.250</td>\n",
              "      <td>502</td>\n",
              "      <td>6</td>\n",
              "      <td>09/09/2018 01:14:10 AM</td>\n",
              "      <td>1450321</td>\n",
              "      <td>15</td>\n",
              "      <td>5</td>\n",
              "      <td>...</td>\n",
              "      <td>0</td>\n",
              "      <td>0.000000e+00</td>\n",
              "      <td>0.000000e+00</td>\n",
              "      <td>0.0</td>\n",
              "      <td>0.0</td>\n",
              "      <td>0.0</td>\n",
              "      <td>0.000000e+00</td>\n",
              "      <td>0.0</td>\n",
              "      <td>0.0</td>\n",
              "      <td>0</td>\n",
              "    </tr>\n",
              "    <tr>\n",
              "      <th>...</th>\n",
              "      <td>...</td>\n",
              "      <td>...</td>\n",
              "      <td>...</td>\n",
              "      <td>...</td>\n",
              "      <td>...</td>\n",
              "      <td>...</td>\n",
              "      <td>...</td>\n",
              "      <td>...</td>\n",
              "      <td>...</td>\n",
              "      <td>...</td>\n",
              "      <td>...</td>\n",
              "      <td>...</td>\n",
              "      <td>...</td>\n",
              "      <td>...</td>\n",
              "      <td>...</td>\n",
              "      <td>...</td>\n",
              "      <td>...</td>\n",
              "      <td>...</td>\n",
              "      <td>...</td>\n",
              "      <td>...</td>\n",
              "      <td>...</td>\n",
              "    </tr>\n",
              "    <tr>\n",
              "      <th>23456</th>\n",
              "      <td>172.27.224.250-172.27.224.251-502-61105-6</td>\n",
              "      <td>172.27.224.251</td>\n",
              "      <td>61105</td>\n",
              "      <td>172.27.224.250</td>\n",
              "      <td>502</td>\n",
              "      <td>6</td>\n",
              "      <td>09/09/2018 02:58:28 AM</td>\n",
              "      <td>8749</td>\n",
              "      <td>0</td>\n",
              "      <td>3</td>\n",
              "      <td>...</td>\n",
              "      <td>0</td>\n",
              "      <td>0.000000e+00</td>\n",
              "      <td>0.000000e+00</td>\n",
              "      <td>0.0</td>\n",
              "      <td>0.0</td>\n",
              "      <td>0.0</td>\n",
              "      <td>0.000000e+00</td>\n",
              "      <td>0.0</td>\n",
              "      <td>0.0</td>\n",
              "      <td>0</td>\n",
              "    </tr>\n",
              "    <tr>\n",
              "      <th>23457</th>\n",
              "      <td>172.27.224.250-172.27.224.251-502-64892-6</td>\n",
              "      <td>172.27.224.251</td>\n",
              "      <td>64892</td>\n",
              "      <td>172.27.224.250</td>\n",
              "      <td>502</td>\n",
              "      <td>6</td>\n",
              "      <td>09/09/2018 06:01:19 AM</td>\n",
              "      <td>9089</td>\n",
              "      <td>0</td>\n",
              "      <td>3</td>\n",
              "      <td>...</td>\n",
              "      <td>0</td>\n",
              "      <td>0.000000e+00</td>\n",
              "      <td>0.000000e+00</td>\n",
              "      <td>0.0</td>\n",
              "      <td>0.0</td>\n",
              "      <td>0.0</td>\n",
              "      <td>0.000000e+00</td>\n",
              "      <td>0.0</td>\n",
              "      <td>0.0</td>\n",
              "      <td>0</td>\n",
              "    </tr>\n",
              "    <tr>\n",
              "      <th>23458</th>\n",
              "      <td>172.27.224.250-172.27.224.251-502-49277-6</td>\n",
              "      <td>172.27.224.251</td>\n",
              "      <td>49277</td>\n",
              "      <td>172.27.224.250</td>\n",
              "      <td>502</td>\n",
              "      <td>6</td>\n",
              "      <td>09/09/2018 06:33:41 AM</td>\n",
              "      <td>9134</td>\n",
              "      <td>0</td>\n",
              "      <td>3</td>\n",
              "      <td>...</td>\n",
              "      <td>0</td>\n",
              "      <td>0.000000e+00</td>\n",
              "      <td>0.000000e+00</td>\n",
              "      <td>0.0</td>\n",
              "      <td>0.0</td>\n",
              "      <td>0.0</td>\n",
              "      <td>0.000000e+00</td>\n",
              "      <td>0.0</td>\n",
              "      <td>0.0</td>\n",
              "      <td>0</td>\n",
              "    </tr>\n",
              "    <tr>\n",
              "      <th>23459</th>\n",
              "      <td>10.0.0.1-10.0.0.2-55884-443-17</td>\n",
              "      <td>10.0.0.1</td>\n",
              "      <td>55884</td>\n",
              "      <td>10.0.0.2</td>\n",
              "      <td>443</td>\n",
              "      <td>17</td>\n",
              "      <td>23/09/2020 04:59:17 AM</td>\n",
              "      <td>119814131</td>\n",
              "      <td>10340</td>\n",
              "      <td>1</td>\n",
              "      <td>...</td>\n",
              "      <td>0</td>\n",
              "      <td>1.002989e+08</td>\n",
              "      <td>0.000000e+00</td>\n",
              "      <td>100298930.0</td>\n",
              "      <td>100298930.0</td>\n",
              "      <td>6766644.0</td>\n",
              "      <td>0.000000e+00</td>\n",
              "      <td>6766644.0</td>\n",
              "      <td>6766644.0</td>\n",
              "      <td>1</td>\n",
              "    </tr>\n",
              "    <tr>\n",
              "      <th>23460</th>\n",
              "      <td>10.0.0.1-10.0.0.2-55884-443-17</td>\n",
              "      <td>10.0.0.1</td>\n",
              "      <td>55884</td>\n",
              "      <td>10.0.0.2</td>\n",
              "      <td>443</td>\n",
              "      <td>17</td>\n",
              "      <td>23/09/2020 05:01:21 AM</td>\n",
              "      <td>80140136</td>\n",
              "      <td>8216</td>\n",
              "      <td>1</td>\n",
              "      <td>...</td>\n",
              "      <td>0</td>\n",
              "      <td>5.481579e+06</td>\n",
              "      <td>3.966578e+06</td>\n",
              "      <td>9453787.0</td>\n",
              "      <td>318438.0</td>\n",
              "      <td>6557856.0</td>\n",
              "      <td>2.196578e+06</td>\n",
              "      <td>9839598.0</td>\n",
              "      <td>5195059.0</td>\n",
              "      <td>1</td>\n",
              "    </tr>\n",
              "  </tbody>\n",
              "</table>\n",
              "<p>23461 rows × 84 columns</p>\n",
              "</div>\n",
              "      <button class=\"colab-df-convert\" onclick=\"convertToInteractive('df-26311bea-14c7-4563-a3ed-5f323fead402')\"\n",
              "              title=\"Convert this dataframe to an interactive table.\"\n",
              "              style=\"display:none;\">\n",
              "        \n",
              "  <svg xmlns=\"http://www.w3.org/2000/svg\" height=\"24px\"viewBox=\"0 0 24 24\"\n",
              "       width=\"24px\">\n",
              "    <path d=\"M0 0h24v24H0V0z\" fill=\"none\"/>\n",
              "    <path d=\"M18.56 5.44l.94 2.06.94-2.06 2.06-.94-2.06-.94-.94-2.06-.94 2.06-2.06.94zm-11 1L8.5 8.5l.94-2.06 2.06-.94-2.06-.94L8.5 2.5l-.94 2.06-2.06.94zm10 10l.94 2.06.94-2.06 2.06-.94-2.06-.94-.94-2.06-.94 2.06-2.06.94z\"/><path d=\"M17.41 7.96l-1.37-1.37c-.4-.4-.92-.59-1.43-.59-.52 0-1.04.2-1.43.59L10.3 9.45l-7.72 7.72c-.78.78-.78 2.05 0 2.83L4 21.41c.39.39.9.59 1.41.59.51 0 1.02-.2 1.41-.59l7.78-7.78 2.81-2.81c.8-.78.8-2.07 0-2.86zM5.41 20L4 18.59l7.72-7.72 1.47 1.35L5.41 20z\"/>\n",
              "  </svg>\n",
              "      </button>\n",
              "      \n",
              "  <style>\n",
              "    .colab-df-container {\n",
              "      display:flex;\n",
              "      flex-wrap:wrap;\n",
              "      gap: 12px;\n",
              "    }\n",
              "\n",
              "    .colab-df-convert {\n",
              "      background-color: #E8F0FE;\n",
              "      border: none;\n",
              "      border-radius: 50%;\n",
              "      cursor: pointer;\n",
              "      display: none;\n",
              "      fill: #1967D2;\n",
              "      height: 32px;\n",
              "      padding: 0 0 0 0;\n",
              "      width: 32px;\n",
              "    }\n",
              "\n",
              "    .colab-df-convert:hover {\n",
              "      background-color: #E2EBFA;\n",
              "      box-shadow: 0px 1px 2px rgba(60, 64, 67, 0.3), 0px 1px 3px 1px rgba(60, 64, 67, 0.15);\n",
              "      fill: #174EA6;\n",
              "    }\n",
              "\n",
              "    [theme=dark] .colab-df-convert {\n",
              "      background-color: #3B4455;\n",
              "      fill: #D2E3FC;\n",
              "    }\n",
              "\n",
              "    [theme=dark] .colab-df-convert:hover {\n",
              "      background-color: #434B5C;\n",
              "      box-shadow: 0px 1px 3px 1px rgba(0, 0, 0, 0.15);\n",
              "      filter: drop-shadow(0px 1px 2px rgba(0, 0, 0, 0.3));\n",
              "      fill: #FFFFFF;\n",
              "    }\n",
              "  </style>\n",
              "\n",
              "      <script>\n",
              "        const buttonEl =\n",
              "          document.querySelector('#df-26311bea-14c7-4563-a3ed-5f323fead402 button.colab-df-convert');\n",
              "        buttonEl.style.display =\n",
              "          google.colab.kernel.accessAllowed ? 'block' : 'none';\n",
              "\n",
              "        async function convertToInteractive(key) {\n",
              "          const element = document.querySelector('#df-26311bea-14c7-4563-a3ed-5f323fead402');\n",
              "          const dataTable =\n",
              "            await google.colab.kernel.invokeFunction('convertToInteractive',\n",
              "                                                     [key], {});\n",
              "          if (!dataTable) return;\n",
              "\n",
              "          const docLinkHtml = 'Like what you see? Visit the ' +\n",
              "            '<a target=\"_blank\" href=https://colab.research.google.com/notebooks/data_table.ipynb>data table notebook</a>'\n",
              "            + ' to learn more about interactive tables.';\n",
              "          element.innerHTML = '';\n",
              "          dataTable['output_type'] = 'display_data';\n",
              "          await google.colab.output.renderOutput(dataTable, element);\n",
              "          const docLink = document.createElement('div');\n",
              "          docLink.innerHTML = docLinkHtml;\n",
              "          element.appendChild(docLink);\n",
              "        }\n",
              "      </script>\n",
              "    </div>\n",
              "  </div>\n",
              "  "
            ]
          },
          "metadata": {},
          "execution_count": 54
        }
      ]
    },
    {
      "cell_type": "code",
      "source": [
        "X_predict_2 =  datakita[['Dst Port', 'Flow Duration', 'Fwd Pkt Len Min', 'Flow Byts/s', 'Flow IAT Min' ,'Bwd Header Len', 'Bwd Pkts/s', 'Pkt Len Min', 'Subflow Bwd Pkts', 'Init Bwd Win Byts']]\n",
        "X_predict_2 = X_predict_2.replace((np.inf, -np.inf, np.nan), 0).reset_index(drop=True)"
      ],
      "metadata": {
        "id": "PI0gwErmT_-o"
      },
      "execution_count": 55,
      "outputs": []
    },
    {
      "cell_type": "code",
      "source": [
        "X_predict_2.shape"
      ],
      "metadata": {
        "id": "R7xgMcwGUwDV",
        "colab": {
          "base_uri": "https://localhost:8080/"
        },
        "outputId": "829fda9e-476f-426e-da07-cc6d105b940f"
      },
      "execution_count": 56,
      "outputs": [
        {
          "output_type": "execute_result",
          "data": {
            "text/plain": [
              "(23461, 10)"
            ]
          },
          "metadata": {},
          "execution_count": 56
        }
      ]
    },
    {
      "cell_type": "code",
      "source": [
        "X_predict_flow_2 = StandardScaler().fit(X_predict_2).transform(X_predict_2.astype('float64'))\n",
        "\n",
        "X_predict_flow_2 = PCA(n_components=2).fit_transform(X_predict_flow_2)"
      ],
      "metadata": {
        "id": "olbIA_rlS6Nx"
      },
      "execution_count": 57,
      "outputs": []
    },
    {
      "cell_type": "code",
      "source": [
        "X_predict_flow_2.shape"
      ],
      "metadata": {
        "id": "CxsxF0leXWZ8",
        "colab": {
          "base_uri": "https://localhost:8080/"
        },
        "outputId": "cfc2c0a9-2c1a-4e19-c679-7039f3f1e47a"
      },
      "execution_count": 58,
      "outputs": [
        {
          "output_type": "execute_result",
          "data": {
            "text/plain": [
              "(23461, 2)"
            ]
          },
          "metadata": {},
          "execution_count": 58
        }
      ]
    },
    {
      "cell_type": "code",
      "source": [
        "Y_predict_flow_2 = datakita['Label'].values\n",
        "Y_predict_flow_2"
      ],
      "metadata": {
        "id": "IZ00m555Wueh",
        "colab": {
          "base_uri": "https://localhost:8080/"
        },
        "outputId": "b79fd755-55d7-414c-c4a6-969590b2adaf"
      },
      "execution_count": 59,
      "outputs": [
        {
          "output_type": "execute_result",
          "data": {
            "text/plain": [
              "array([0, 0, 0, ..., 0, 1, 1])"
            ]
          },
          "metadata": {},
          "execution_count": 59
        }
      ]
    },
    {
      "cell_type": "code",
      "source": [
        "new_output = clf.predict(X_predict_flow_2)\n"
      ],
      "metadata": {
        "id": "21TovsXYXcar"
      },
      "execution_count": 60,
      "outputs": []
    },
    {
      "cell_type": "code",
      "source": [
        "# calculate and display our base accuracty\n",
        "base_rf_score = accuracy_score(new_output,Y_predict_flow_2)\n",
        "base_rf_score"
      ],
      "metadata": {
        "colab": {
          "base_uri": "https://localhost:8080/"
        },
        "id": "DA-so-v8YfyG",
        "outputId": "e57cf4f7-9ab1-45d0-fe3a-46d2a1e76e1b"
      },
      "execution_count": 61,
      "outputs": [
        {
          "output_type": "execute_result",
          "data": {
            "text/plain": [
              "0.029623630706278506"
            ]
          },
          "metadata": {},
          "execution_count": 61
        }
      ]
    },
    {
      "cell_type": "code",
      "source": [
        "print(\"acccuracy score :\",(accuracy_score(new_output,Y_predict_flow_2))*100,\"%\") \n",
        "print(\"precision score :\",(precision_score(new_output,Y_predict_flow_2))*100,\"%\") \n",
        "print(\"Recall score :\",(recall_score(new_output,Y_predict_flow_2))*100,\"%\") \n",
        "print(\"f1 score :\",(f1_score(new_output,Y_predict_flow_2))*100,\"%\")"
      ],
      "metadata": {
        "colab": {
          "base_uri": "https://localhost:8080/"
        },
        "id": "morM0sO6OtH-",
        "outputId": "648dc63c-7805-45da-8a0e-16b84ac22e29"
      },
      "execution_count": 62,
      "outputs": [
        {
          "output_type": "stream",
          "name": "stdout",
          "text": [
            "acccuracy score : 2.9623630706278505 %\n",
            "precision score : 0.0 %\n",
            "Recall score : 0.0 %\n",
            "f1 score : 0.0 %\n"
          ]
        }
      ]
    },
    {
      "cell_type": "code",
      "source": [
        "import seaborn as sns\n",
        "import matplotlib.pyplot as plt\n",
        "f, ax = plt.subplots(figsize=(8,5))\n",
        "sns.heatmap(confusion_matrix(new_output,Y_predict_flow_2), annot=True, fmt=\".0f\", ax=ax)\n",
        "plt.xlabel(\"Predict\")\n",
        "plt.ylabel(\"Actual\")\n",
        "plt.show()"
      ],
      "metadata": {
        "colab": {
          "base_uri": "https://localhost:8080/",
          "height": 334
        },
        "id": "0UxKSr9EmK0-",
        "outputId": "125e9aa4-4e26-4d81-900b-71ad2bdc9a8b"
      },
      "execution_count": 63,
      "outputs": [
        {
          "output_type": "display_data",
          "data": {
            "text/plain": [
              "<Figure size 576x360 with 2 Axes>"
            ],
            "image/png": "[encoded data removed]"
          },
          "metadata": {
            "needs_background": "light"
          }
        }
      ]
    },
    {
      "cell_type": "markdown",
      "source": [
        "DATASET BAPAK"
      ],
      "metadata": {
        "id": "Fps9HaHAbKu2"
      }
    },
    {
      "cell_type": "code",
      "source": [
        "databapak_normal = pd.read_csv(\"drive/MyDrive/Normal_generate6.csv\")\n",
        "databapak_ICMP = pd.read_csv(\"drive/MyDrive/capture_h3_ICMP_Flow.csv\")\n",
        "databapak_TCP = pd.read_csv(\"drive/MyDrive/capture_h3_TCP-SYN.pcap_Flow.csv\")\n",
        "databapak_UDP = pd.read_csv(\"drive/MyDrive/capture_h3_UDP.pcap_Flow.csv\")\n"
      ],
      "metadata": {
        "id": "X0xj5XuPbM7z"
      },
      "execution_count": 65,
      "outputs": []
    },
    {
      "cell_type": "code",
      "source": [
        "databapak_UDP.Label"
      ],
      "metadata": {
        "colab": {
          "base_uri": "https://localhost:8080/"
        },
        "id": "W1V8ib-wqKmd",
        "outputId": "6d35bdfa-020d-4c51-bedd-95986ef6d821"
      },
      "execution_count": 66,
      "outputs": [
        {
          "output_type": "execute_result",
          "data": {
            "text/plain": [
              "0        No Label\n",
              "1        No Label\n",
              "2        No Label\n",
              "3        No Label\n",
              "4        No Label\n",
              "           ...   \n",
              "65531    No Label\n",
              "65532    No Label\n",
              "65533    No Label\n",
              "65534    No Label\n",
              "65535    No Label\n",
              "Name: Label, Length: 65536, dtype: object"
            ]
          },
          "metadata": {},
          "execution_count": 66
        }
      ]
    },
    {
      "cell_type": "code",
      "source": [
        "map_normal = {\n",
        "    'No Label': np.int64(0),\n",
        "    }\n",
        "map_serangan = {\n",
        "    'No Label': np.int64(1),\n",
        "    }"
      ],
      "metadata": {
        "id": "kHNr6kSzs6EP"
      },
      "execution_count": 67,
      "outputs": []
    },
    {
      "cell_type": "code",
      "source": [
        "databapak_normal['Label'] = databapak_normal['Label'].map(map_normal)\n",
        "databapak_ICMP['Label'] = databapak_ICMP['Label'].map(map_serangan)\n",
        "databapak_TCP['Label'] = databapak_TCP['Label'].map(map_serangan)\n",
        "databapak_UDP['Label'] = databapak_UDP['Label'].map(map_serangan)"
      ],
      "metadata": {
        "id": "HWAs--VpcduH"
      },
      "execution_count": 68,
      "outputs": []
    },
    {
      "cell_type": "code",
      "source": [
        "databapak_ICMP"
      ],
      "metadata": {
        "colab": {
          "base_uri": "https://localhost:8080/",
          "height": 362
        },
        "id": "mC9dVfLEce5v",
        "outputId": "2a1e4203-24ae-4908-963d-bf09232bce7b"
      },
      "execution_count": 69,
      "outputs": [
        {
          "output_type": "execute_result",
          "data": {
            "text/plain": [
              "                          Flow ID    Src IP  Src Port    Dst IP  Dst Port  \\\n",
              "0  10.0.0.1-10.0.0.2-55884-443-17  10.0.0.1     55884  10.0.0.2       443   \n",
              "1  10.0.0.1-10.0.0.2-55884-443-17  10.0.0.1     55884  10.0.0.2       443   \n",
              "\n",
              "   Protocol               Timestamp  Flow Duration  Tot Fwd Pkts  \\\n",
              "0        17  23/09/2020 04:59:17 AM      119814131         10340   \n",
              "1        17  23/09/2020 05:01:21 AM       80140136          8216   \n",
              "\n",
              "   Tot Bwd Pkts  ...  Fwd Seg Size Min   Active Mean    Active Std  \\\n",
              "0             1  ...                 0  1.002989e+08  0.000000e+00   \n",
              "1             1  ...                 0  5.481579e+06  3.966578e+06   \n",
              "\n",
              "    Active Max   Active Min  Idle Mean      Idle Std   Idle Max   Idle Min  \\\n",
              "0  100298930.0  100298930.0  6766644.0  0.000000e+00  6766644.0  6766644.0   \n",
              "1    9453787.0     318438.0  6557856.0  2.196578e+06  9839598.0  5195059.0   \n",
              "\n",
              "   Label  \n",
              "0      1  \n",
              "1      1  \n",
              "\n",
              "[2 rows x 84 columns]"
            ],
            "text/html": [
              "\n",
              "  <div id=\"df-caff580a-ca11-43c5-af66-bd19cca23cb1\">\n",
              "    <div class=\"colab-df-container\">\n",
              "      <div>\n",
              "<style scoped>\n",
              "    .dataframe tbody tr th:only-of-type {\n",
              "        vertical-align: middle;\n",
              "    }\n",
              "\n",
              "    .dataframe tbody tr th {\n",
              "        vertical-align: top;\n",
              "    }\n",
              "\n",
              "    .dataframe thead th {\n",
              "        text-align: right;\n",
              "    }\n",
              "</style>\n",
              "<table border=\"1\" class=\"dataframe\">\n",
              "  <thead>\n",
              "    <tr style=\"text-align: right;\">\n",
              "      <th></th>\n",
              "      <th>Flow ID</th>\n",
              "      <th>Src IP</th>\n",
              "      <th>Src Port</th>\n",
              "      <th>Dst IP</th>\n",
              "      <th>Dst Port</th>\n",
              "      <th>Protocol</th>\n",
              "      <th>Timestamp</th>\n",
              "      <th>Flow Duration</th>\n",
              "      <th>Tot Fwd Pkts</th>\n",
              "      <th>Tot Bwd Pkts</th>\n",
              "      <th>...</th>\n",
              "      <th>Fwd Seg Size Min</th>\n",
              "      <th>Active Mean</th>\n",
              "      <th>Active Std</th>\n",
              "      <th>Active Max</th>\n",
              "      <th>Active Min</th>\n",
              "      <th>Idle Mean</th>\n",
              "      <th>Idle Std</th>\n",
              "      <th>Idle Max</th>\n",
              "      <th>Idle Min</th>\n",
              "      <th>Label</th>\n",
              "    </tr>\n",
              "  </thead>\n",
              "  <tbody>\n",
              "    <tr>\n",
              "      <th>0</th>\n",
              "      <td>10.0.0.1-10.0.0.2-55884-443-17</td>\n",
              "      <td>10.0.0.1</td>\n",
              "      <td>55884</td>\n",
              "      <td>10.0.0.2</td>\n",
              "      <td>443</td>\n",
              "      <td>17</td>\n",
              "      <td>23/09/2020 04:59:17 AM</td>\n",
              "      <td>119814131</td>\n",
              "      <td>10340</td>\n",
              "      <td>1</td>\n",
              "      <td>...</td>\n",
              "      <td>0</td>\n",
              "      <td>1.002989e+08</td>\n",
              "      <td>0.000000e+00</td>\n",
              "      <td>100298930.0</td>\n",
              "      <td>100298930.0</td>\n",
              "      <td>6766644.0</td>\n",
              "      <td>0.000000e+00</td>\n",
              "      <td>6766644.0</td>\n",
              "      <td>6766644.0</td>\n",
              "      <td>1</td>\n",
              "    </tr>\n",
              "    <tr>\n",
              "      <th>1</th>\n",
              "      <td>10.0.0.1-10.0.0.2-55884-443-17</td>\n",
              "      <td>10.0.0.1</td>\n",
              "      <td>55884</td>\n",
              "      <td>10.0.0.2</td>\n",
              "      <td>443</td>\n",
              "      <td>17</td>\n",
              "      <td>23/09/2020 05:01:21 AM</td>\n",
              "      <td>80140136</td>\n",
              "      <td>8216</td>\n",
              "      <td>1</td>\n",
              "      <td>...</td>\n",
              "      <td>0</td>\n",
              "      <td>5.481579e+06</td>\n",
              "      <td>3.966578e+06</td>\n",
              "      <td>9453787.0</td>\n",
              "      <td>318438.0</td>\n",
              "      <td>6557856.0</td>\n",
              "      <td>2.196578e+06</td>\n",
              "      <td>9839598.0</td>\n",
              "      <td>5195059.0</td>\n",
              "      <td>1</td>\n",
              "    </tr>\n",
              "  </tbody>\n",
              "</table>\n",
              "<p>2 rows × 84 columns</p>\n",
              "</div>\n",
              "      <button class=\"colab-df-convert\" onclick=\"convertToInteractive('df-caff580a-ca11-43c5-af66-bd19cca23cb1')\"\n",
              "              title=\"Convert this dataframe to an interactive table.\"\n",
              "              style=\"display:none;\">\n",
              "        \n",
              "  <svg xmlns=\"http://www.w3.org/2000/svg\" height=\"24px\"viewBox=\"0 0 24 24\"\n",
              "       width=\"24px\">\n",
              "    <path d=\"M0 0h24v24H0V0z\" fill=\"none\"/>\n",
              "    <path d=\"M18.56 5.44l.94 2.06.94-2.06 2.06-.94-2.06-.94-.94-2.06-.94 2.06-2.06.94zm-11 1L8.5 8.5l.94-2.06 2.06-.94-2.06-.94L8.5 2.5l-.94 2.06-2.06.94zm10 10l.94 2.06.94-2.06 2.06-.94-2.06-.94-.94-2.06-.94 2.06-2.06.94z\"/><path d=\"M17.41 7.96l-1.37-1.37c-.4-.4-.92-.59-1.43-.59-.52 0-1.04.2-1.43.59L10.3 9.45l-7.72 7.72c-.78.78-.78 2.05 0 2.83L4 21.41c.39.39.9.59 1.41.59.51 0 1.02-.2 1.41-.59l7.78-7.78 2.81-2.81c.8-.78.8-2.07 0-2.86zM5.41 20L4 18.59l7.72-7.72 1.47 1.35L5.41 20z\"/>\n",
              "  </svg>\n",
              "      </button>\n",
              "      \n",
              "  <style>\n",
              "    .colab-df-container {\n",
              "      display:flex;\n",
              "      flex-wrap:wrap;\n",
              "      gap: 12px;\n",
              "    }\n",
              "\n",
              "    .colab-df-convert {\n",
              "      background-color: #E8F0FE;\n",
              "      border: none;\n",
              "      border-radius: 50%;\n",
              "      cursor: pointer;\n",
              "      display: none;\n",
              "      fill: #1967D2;\n",
              "      height: 32px;\n",
              "      padding: 0 0 0 0;\n",
              "      width: 32px;\n",
              "    }\n",
              "\n",
              "    .colab-df-convert:hover {\n",
              "      background-color: #E2EBFA;\n",
              "      box-shadow: 0px 1px 2px rgba(60, 64, 67, 0.3), 0px 1px 3px 1px rgba(60, 64, 67, 0.15);\n",
              "      fill: #174EA6;\n",
              "    }\n",
              "\n",
              "    [theme=dark] .colab-df-convert {\n",
              "      background-color: #3B4455;\n",
              "      fill: #D2E3FC;\n",
              "    }\n",
              "\n",
              "    [theme=dark] .colab-df-convert:hover {\n",
              "      background-color: #434B5C;\n",
              "      box-shadow: 0px 1px 3px 1px rgba(0, 0, 0, 0.15);\n",
              "      filter: drop-shadow(0px 1px 2px rgba(0, 0, 0, 0.3));\n",
              "      fill: #FFFFFF;\n",
              "    }\n",
              "  </style>\n",
              "\n",
              "      <script>\n",
              "        const buttonEl =\n",
              "          document.querySelector('#df-caff580a-ca11-43c5-af66-bd19cca23cb1 button.colab-df-convert');\n",
              "        buttonEl.style.display =\n",
              "          google.colab.kernel.accessAllowed ? 'block' : 'none';\n",
              "\n",
              "        async function convertToInteractive(key) {\n",
              "          const element = document.querySelector('#df-caff580a-ca11-43c5-af66-bd19cca23cb1');\n",
              "          const dataTable =\n",
              "            await google.colab.kernel.invokeFunction('convertToInteractive',\n",
              "                                                     [key], {});\n",
              "          if (!dataTable) return;\n",
              "\n",
              "          const docLinkHtml = 'Like what you see? Visit the ' +\n",
              "            '<a target=\"_blank\" href=https://colab.research.google.com/notebooks/data_table.ipynb>data table notebook</a>'\n",
              "            + ' to learn more about interactive tables.';\n",
              "          element.innerHTML = '';\n",
              "          dataTable['output_type'] = 'display_data';\n",
              "          await google.colab.output.renderOutput(dataTable, element);\n",
              "          const docLink = document.createElement('div');\n",
              "          docLink.innerHTML = docLinkHtml;\n",
              "          element.appendChild(docLink);\n",
              "        }\n",
              "      </script>\n",
              "    </div>\n",
              "  </div>\n",
              "  "
            ]
          },
          "metadata": {},
          "execution_count": 69
        }
      ]
    },
    {
      "cell_type": "code",
      "source": [
        "databapak = pd.concat([databapak_normal, databapak_ICMP, databapak_TCP, databapak_UDP]).drop_duplicates().reset_index(drop=True) "
      ],
      "metadata": {
        "id": "V5nPYQl7c1Bo"
      },
      "execution_count": 70,
      "outputs": []
    },
    {
      "cell_type": "code",
      "source": [
        "databapak[\"Label\"].value_counts()"
      ],
      "metadata": {
        "colab": {
          "base_uri": "https://localhost:8080/"
        },
        "id": "o_wWIZgAcwjy",
        "outputId": "11097599-b0da-4806-ff43-892ab51bc41a"
      },
      "execution_count": 71,
      "outputs": [
        {
          "output_type": "execute_result",
          "data": {
            "text/plain": [
              "1    131074\n",
              "0     23459\n",
              "Name: Label, dtype: int64"
            ]
          },
          "metadata": {},
          "execution_count": 71
        }
      ]
    },
    {
      "cell_type": "code",
      "source": [
        "X_predict_3 = databapak[['Dst Port', 'Flow Duration', 'Fwd Pkt Len Min', 'Flow Byts/s', 'Flow IAT Min' ,'Bwd Header Len', 'Bwd Pkts/s', 'Pkt Len Min', 'Subflow Bwd Pkts', 'Init Bwd Win Byts']]\n",
        "X_predict_3 = X_predict_3.replace((np.inf, -np.inf, np.nan), 0).reset_index(drop=True)"
      ],
      "metadata": {
        "id": "2r_tcQtSc915"
      },
      "execution_count": 72,
      "outputs": []
    },
    {
      "cell_type": "code",
      "source": [
        "X_predict_flow_3 = StandardScaler().fit(X_predict_3).transform(X_predict_3.astype('float64'))\n",
        "\n",
        "X_predict_flow_3 = PCA(n_components=2).fit_transform(X_predict_flow_3)"
      ],
      "metadata": {
        "id": "EkCyNQ_bdSQV"
      },
      "execution_count": 73,
      "outputs": []
    },
    {
      "cell_type": "code",
      "source": [
        "Y_predict_flow_3 = databapak['Label'].values\n",
        "Y_predict_flow_3"
      ],
      "metadata": {
        "colab": {
          "base_uri": "https://localhost:8080/"
        },
        "id": "aN7KWarudWiY",
        "outputId": "160f4f69-4b61-4bcf-e566-1cd8a0be64ce"
      },
      "execution_count": 74,
      "outputs": [
        {
          "output_type": "execute_result",
          "data": {
            "text/plain": [
              "array([0, 0, 0, ..., 1, 1, 1])"
            ]
          },
          "metadata": {},
          "execution_count": 74
        }
      ]
    },
    {
      "cell_type": "code",
      "source": [
        "new_output_3 = clf.predict(X_predict_flow_3)\n",
        "base_rf_score_3 = accuracy_score(new_output_3,Y_predict_flow_3)\n",
        "base_rf_score_3\n"
      ],
      "metadata": {
        "colab": {
          "base_uri": "https://localhost:8080/"
        },
        "id": "cBLz2W9PdbI7",
        "outputId": "f9a9506c-c66c-4c39-e8ad-aca197cf7fdb"
      },
      "execution_count": 75,
      "outputs": [
        {
          "output_type": "execute_result",
          "data": {
            "text/plain": [
              "0.8528857913843645"
            ]
          },
          "metadata": {},
          "execution_count": 75
        }
      ]
    },
    {
      "cell_type": "code",
      "source": [
        "print(\"acccuracy score :\",(accuracy_score(new_output_3,Y_predict_flow_3))*100,\"%\") \n",
        "print(\"precision score :\",(precision_score(new_output_3,Y_predict_flow_3))*100,\"%\") \n",
        "print(\"Recall score :\",(recall_score(new_output_3,Y_predict_flow_3))*100,\"%\") \n",
        "print(\"Recall score :\",(confusion_matrix(Y_predict_flow_3,new_output_3))) \n",
        "print(\"f1 score :\",(f1_score(new_output_3,Y_predict_flow_3))*100,\"%\")"
      ],
      "metadata": {
        "colab": {
          "base_uri": "https://localhost:8080/"
        },
        "id": "ZUO_GVAydeAj",
        "outputId": "31f350ed-94d3-4f57-9d9a-77cc17496072"
      },
      "execution_count": 76,
      "outputs": [
        {
          "output_type": "stream",
          "name": "stdout",
          "text": [
            "acccuracy score : 85.28857913843645 %\n",
            "precision score : 99.99847414437646 %\n",
            "Recall score : 85.220150321188 %\n",
            "Recall score : [[   727  22732]\n",
            " [     2 131072]]\n",
            "f1 score : 92.01974178420235 %\n"
          ]
        }
      ]
    },
    {
      "cell_type": "code",
      "source": [
        "new_output_3"
      ],
      "metadata": {
        "colab": {
          "base_uri": "https://localhost:8080/"
        },
        "id": "fbminVgkd3yt",
        "outputId": "ebfac991-0474-4cf5-9fb2-8e5bc8ff8a5c"
      },
      "execution_count": 77,
      "outputs": [
        {
          "output_type": "execute_result",
          "data": {
            "text/plain": [
              "array([1, 1, 1, ..., 1, 1, 1])"
            ]
          },
          "metadata": {},
          "execution_count": 77
        }
      ]
    },
    {
      "cell_type": "code",
      "source": [
        "import seaborn as sns\n",
        "import matplotlib.pyplot as plt\n",
        "f, ax = plt.subplots(figsize=(8,5))\n",
        "sns.heatmap(confusion_matrix(new_output_3,Y_predict_flow_3), annot=True, fmt=\".0f\", ax=ax)\n",
        "plt.xlabel(\"Predict\")\n",
        "plt.ylabel(\"Actual\")\n",
        "plt.show()"
      ],
      "metadata": {
        "colab": {
          "base_uri": "https://localhost:8080/",
          "height": 334
        },
        "id": "mKcjzrkUezLJ",
        "outputId": "83ff2742-d74a-4d2b-c612-ca46d8e4be22"
      },
      "execution_count": 78,
      "outputs": [
        {
          "output_type": "display_data",
          "data": {
            "text/plain": [
              "<Figure size 576x360 with 2 Axes>"
            ],
            "image/png": "[encoded data removed]"
          },
          "metadata": {
            "needs_background": "light"
          }
        }
      ]
    },
    {
      "cell_type": "code",
      "source": [
        "import matplotlib.pyplot as plt\n",
        "from sklearn.metrics import plot_confusion_matrix\n",
        " \n",
        "color = 'white'\n",
        "matrix = plot_confusion_matrix(clf, X_predict_flow_3, Y_predict_flow_3, cmap=plt.cm.Blues)\n",
        "matrix.ax_.set_title('Confusion Matrix', color=color)\n",
        "plt.xlabel('Predicted Label', color=color)\n",
        "plt.ylabel('True Label', color=color)\n",
        "plt.gcf().axes[0].tick_params(colors=color)\n",
        "plt.gcf().axes[1].tick_params(colors=color)\n",
        "plt.show()"
      ],
      "metadata": {
        "colab": {
          "base_uri": "https://localhost:8080/",
          "height": 351
        },
        "id": "PZ9ZnrKehMLU",
        "outputId": "122163d4-2da0-44a6-c9cc-186e6876cca5"
      },
      "execution_count": 79,
      "outputs": [
        {
          "output_type": "stream",
          "name": "stderr",
          "text": [
            "/usr/local/lib/python3.8/dist-packages/sklearn/utils/deprecation.py:87: FutureWarning: Function plot_confusion_matrix is deprecated; Function `plot_confusion_matrix` is deprecated in 1.0 and will be removed in 1.2. Use one of the class methods: ConfusionMatrixDisplay.from_predictions or ConfusionMatrixDisplay.from_estimator.\n",
            "  warnings.warn(msg, category=FutureWarning)\n"
          ]
        },
        {
          "output_type": "display_data",
          "data": {
            "text/plain": [
              "<Figure size 432x288 with 2 Axes>"
            ],
            "image/png": "[encoded data removed]"
          },
          "metadata": {
            "needs_background": "dark"
          }
        }
      ]
    },
    {
      "cell_type": "code",
      "source": [],
      "metadata": {
        "id": "mrSPX3cjf0YG"
      },
      "execution_count": null,
      "outputs": []
    }
  ],
  "metadata": {
    "colab": {
      "provenance": [],
      "include_colab_link": true
    },
    "kernelspec": {
      "display_name": "Python 3",
      "name": "python3"
    },
    "language_info": {
      "name": "python"
    }
  },
  "nbformat": 4,
  "nbformat_minor": 0
}